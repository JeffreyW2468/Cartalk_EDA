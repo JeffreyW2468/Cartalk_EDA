{
 "cells": [
  {
   "cell_type": "code",
   "execution_count": 1,
   "metadata": {},
   "outputs": [
    {
     "data": {
      "text/html": [
       "<div>\n",
       "<style scoped>\n",
       "    .dataframe tbody tr th:only-of-type {\n",
       "        vertical-align: middle;\n",
       "    }\n",
       "\n",
       "    .dataframe tbody tr th {\n",
       "        vertical-align: top;\n",
       "    }\n",
       "\n",
       "    .dataframe thead th {\n",
       "        text-align: right;\n",
       "    }\n",
       "</style>\n",
       "<table border=\"1\" class=\"dataframe\">\n",
       "  <thead>\n",
       "    <tr style=\"text-align: right;\">\n",
       "      <th></th>\n",
       "      <th>Unnamed: 0</th>\n",
       "      <th>Topic Title</th>\n",
       "      <th>Category</th>\n",
       "      <th>Tags</th>\n",
       "      <th>Author</th>\n",
       "      <th>Commenters</th>\n",
       "      <th>Leading Comment</th>\n",
       "      <th>Other Comments</th>\n",
       "      <th>Likes</th>\n",
       "      <th>Views</th>\n",
       "    </tr>\n",
       "  </thead>\n",
       "  <tbody>\n",
       "    <tr>\n",
       "      <th>0</th>\n",
       "      <td>0.0</td>\n",
       "      <td>About the Buying/Selling category</td>\n",
       "      <td>Buying/Selling</td>\n",
       "      <td>[]</td>\n",
       "      <td>system</td>\n",
       "      <td>[]</td>\n",
       "      <td>Debating a new ride? Ask all your buying and s...</td>\n",
       "      <td>[]</td>\n",
       "      <td>1</td>\n",
       "      <td>2.2k</td>\n",
       "    </tr>\n",
       "    <tr>\n",
       "      <th>1</th>\n",
       "      <td>1.0</td>\n",
       "      <td>New Car Salesperson Commissions</td>\n",
       "      <td>Buying/Selling</td>\n",
       "      <td>[]</td>\n",
       "      <td>wolyrobb</td>\n",
       "      <td>['wentwest', 'shadowfax', 'VOLVO-V70', 'Trieda...</td>\n",
       "      <td>I’ve been working with a particular salesperso...</td>\n",
       "      <td>['No one here can tell you what any dealers co...</td>\n",
       "      <td>12</td>\n",
       "      <td>559</td>\n",
       "    </tr>\n",
       "    <tr>\n",
       "      <th>2</th>\n",
       "      <td>2.0</td>\n",
       "      <td>Best used car to buy for long road trips?</td>\n",
       "      <td>Buying/Selling</td>\n",
       "      <td>['used-cars']</td>\n",
       "      <td>Whitey</td>\n",
       "      <td>['texases', 'VOLVO-V70', 'Marnet', 'lion9car',...</td>\n",
       "      <td>Hello! I am new to the site and am having a di...</td>\n",
       "      <td>['The answer to your question depends far more...</td>\n",
       "      <td>44</td>\n",
       "      <td>14.6k</td>\n",
       "    </tr>\n",
       "    <tr>\n",
       "      <th>3</th>\n",
       "      <td>3.0</td>\n",
       "      <td>Honda Element any good?</td>\n",
       "      <td>Buying/Selling</td>\n",
       "      <td>['honda', 'element']</td>\n",
       "      <td>texases</td>\n",
       "      <td>['VOLVO-V70', 'old_mopar_guy', 'lockstar', 'sh...</td>\n",
       "      <td>Are these any good and were they discontinued?...</td>\n",
       "      <td>['A simple Google search would have shown that...</td>\n",
       "      <td>24</td>\n",
       "      <td>1.2k</td>\n",
       "    </tr>\n",
       "    <tr>\n",
       "      <th>4</th>\n",
       "      <td>4.0</td>\n",
       "      <td>1993 4Runner vs 2011 Mazda3 Hatch</td>\n",
       "      <td>Buying/Selling</td>\n",
       "      <td>['toyota', '4runner', 'buying', 'used-cars']</td>\n",
       "      <td>galant</td>\n",
       "      <td>['wolyrobb', 'Nevada_545', 'jordanethan609_175...</td>\n",
       "      <td>I’m conflicted between these two cars\\n4Runner...</td>\n",
       "      <td>['You are comparing apples to hamsters with th...</td>\n",
       "      <td>46</td>\n",
       "      <td>1.7k</td>\n",
       "    </tr>\n",
       "  </tbody>\n",
       "</table>\n",
       "</div>"
      ],
      "text/plain": [
       "   Unnamed: 0                                Topic Title        Category  \\\n",
       "0         0.0          About the Buying/Selling category  Buying/Selling   \n",
       "1         1.0            New Car Salesperson Commissions  Buying/Selling   \n",
       "2         2.0  Best used car to buy for long road trips?  Buying/Selling   \n",
       "3         3.0                    Honda Element any good?  Buying/Selling   \n",
       "4         4.0          1993 4Runner vs 2011 Mazda3 Hatch  Buying/Selling   \n",
       "\n",
       "                                           Tags    Author  \\\n",
       "0                                            []    system   \n",
       "1                                            []  wolyrobb   \n",
       "2                                 ['used-cars']    Whitey   \n",
       "3                          ['honda', 'element']   texases   \n",
       "4  ['toyota', '4runner', 'buying', 'used-cars']    galant   \n",
       "\n",
       "                                          Commenters  \\\n",
       "0                                                 []   \n",
       "1  ['wentwest', 'shadowfax', 'VOLVO-V70', 'Trieda...   \n",
       "2  ['texases', 'VOLVO-V70', 'Marnet', 'lion9car',...   \n",
       "3  ['VOLVO-V70', 'old_mopar_guy', 'lockstar', 'sh...   \n",
       "4  ['wolyrobb', 'Nevada_545', 'jordanethan609_175...   \n",
       "\n",
       "                                     Leading Comment  \\\n",
       "0  Debating a new ride? Ask all your buying and s...   \n",
       "1  I’ve been working with a particular salesperso...   \n",
       "2  Hello! I am new to the site and am having a di...   \n",
       "3  Are these any good and were they discontinued?...   \n",
       "4  I’m conflicted between these two cars\\n4Runner...   \n",
       "\n",
       "                                      Other Comments Likes  Views  \n",
       "0                                                 []     1   2.2k  \n",
       "1  ['No one here can tell you what any dealers co...    12    559  \n",
       "2  ['The answer to your question depends far more...    44  14.6k  \n",
       "3  ['A simple Google search would have shown that...    24   1.2k  \n",
       "4  ['You are comparing apples to hamsters with th...    46   1.7k  "
      ]
     },
     "execution_count": 1,
     "metadata": {},
     "output_type": "execute_result"
    }
   ],
   "source": [
    "#all credit goes to Lu Jiang (PhantomJL, stemaway repository) for working program\n",
    "import pandas as pd\n",
    "\n",
    "data = pd.read_csv('combined_csv.csv')\n",
    "data.head()"
   ]
  },
  {
   "cell_type": "code",
   "execution_count": 2,
   "metadata": {},
   "outputs": [
    {
     "data": {
      "text/plain": [
       "'Are these any good and were they discontinued?  Do they still make them in 2021?  What would be a better pick (NOT TOO HIGH-END) out of some of these listed makes as follows:  Subaru-maybe Outback or Forrester; Honda CRV; Toyota (SUV); GMC (SUV); Chevy (SUV); BMW (SUV); Mercedes (WAGON or SUV); VOLVO (Wagon or SUV), or aby other (affordable, used wagon or SUV)?\\nI want to sell my 2003 and 2004 Honda Accords.  I need cargo space.  One Honda needs a Cat Converter.  I want to replace it (around 600.00 hopefully) and sell it for around 3500.00.  I want to sell the other Honda (2003) for around 2000.00 to 2500.00.  My brother can inspect b/c he knows a lot about cars.  I want to possible camp with my spouse (sleep in back with seats dn), and get around Chicago.  I want a small SUV around 6000.00.  I would like something 2005 or above.  My spouse likes the cargo space in the Element, states it has Honda reliability and thinks the Element looks cool.  Any suggestions out there?  Please advise.'"
      ]
     },
     "execution_count": 2,
     "metadata": {},
     "output_type": "execute_result"
    }
   ],
   "source": [
    "data[\"Leading Comment\"][3]"
   ]
  },
  {
   "cell_type": "code",
   "execution_count": 3,
   "metadata": {},
   "outputs": [],
   "source": [
    "data.drop(['Unnamed: 0','Commenters'],axis = 1,inplace=True)"
   ]
  },
  {
   "cell_type": "code",
   "execution_count": 4,
   "metadata": {},
   "outputs": [
    {
     "data": {
      "text/plain": [
       "Index(['Topic Title', 'Category', 'Tags', 'Author', 'Leading Comment',\n",
       "       'Other Comments', 'Likes', 'Views'],\n",
       "      dtype='object')"
      ]
     },
     "execution_count": 4,
     "metadata": {},
     "output_type": "execute_result"
    }
   ],
   "source": [
    "data.columns"
   ]
  },
  {
   "cell_type": "markdown",
   "metadata": {},
   "source": [
    "## Strategy 1\n",
    "Lower case all the words\n",
    "\n",
    "Replaced by space these [/(){}[]\\'\\“\\”\\’|@,;]\n",
    "\n",
    "Removed these [^0-9a-z #+_]"
   ]
  },
  {
   "cell_type": "code",
   "execution_count": 5,
   "metadata": {},
   "outputs": [],
   "source": [
    "import logging\n",
    "import pandas as pd\n",
    "import numpy as np\n",
    "from numpy import random\n",
    "import gensim\n",
    "import nltk\n",
    "from sklearn.model_selection import train_test_split\n",
    "from sklearn.feature_extraction.text import CountVectorizer, TfidfVectorizer\n",
    "from sklearn.metrics import accuracy_score, confusion_matrix\n",
    "import matplotlib.pyplot as plt\n",
    "from nltk.corpus import stopwords\n",
    "import re\n",
    "from bs4 import BeautifulSoup\n",
    "%matplotlib inline"
   ]
  },
  {
   "cell_type": "code",
   "execution_count": 6,
   "metadata": {},
   "outputs": [],
   "source": [
    "df = data.copy()"
   ]
  },
  {
   "cell_type": "code",
   "execution_count": 7,
   "metadata": {},
   "outputs": [
    {
     "name": "stdout",
     "output_type": "stream",
     "text": [
      "<class 'pandas.core.frame.DataFrame'>\n",
      "RangeIndex: 6608 entries, 0 to 6607\n",
      "Data columns (total 8 columns):\n",
      " #   Column           Non-Null Count  Dtype \n",
      "---  ------           --------------  ----- \n",
      " 0   Topic Title      6608 non-null   object\n",
      " 1   Category         6608 non-null   object\n",
      " 2   Tags             6608 non-null   object\n",
      " 3   Author           6608 non-null   object\n",
      " 4   Leading Comment  6601 non-null   object\n",
      " 5   Other Comments   6608 non-null   object\n",
      " 6   Likes            6607 non-null   object\n",
      " 7   Views            6607 non-null   object\n",
      "dtypes: object(8)\n",
      "memory usage: 413.1+ KB\n"
     ]
    }
   ],
   "source": [
    "df.info()"
   ]
  },
  {
   "cell_type": "code",
   "execution_count": 368,
   "metadata": {},
   "outputs": [
    {
     "data": {
      "text/plain": [
       "0    About the Buying/Selling category Debating a n...\n",
       "1    New Car Salesperson Commissions I’ve been work...\n",
       "2    Best used car to buy for long road trips? Hell...\n",
       "3    Honda Element any good? Are these any good and...\n",
       "4    1993 4Runner vs 2011 Mazda3 Hatch I’m conflict...\n",
       "Name: post, dtype: object"
      ]
     },
     "execution_count": 368,
     "metadata": {},
     "output_type": "execute_result"
    }
   ],
   "source": [
    "df['post'] = df['Topic Title'] + ' ' + df['Leading Comment'] + ' ' + df['Other Comments'] + ' ' + df['Tags']\n",
    "df['post'].head()"
   ]
  },
  {
   "cell_type": "code",
   "execution_count": 369,
   "metadata": {},
   "outputs": [
    {
     "name": "stdout",
     "output_type": "stream",
     "text": [
      "4294188\n"
     ]
    }
   ],
   "source": [
    "print(df['post'].apply(lambda x: len(str(x).split(' '))).sum())"
   ]
  },
  {
   "cell_type": "code",
   "execution_count": 370,
   "metadata": {},
   "outputs": [
    {
     "data": {
      "text/plain": [
       "array(['Buying/Selling & Ask Someone Who Owns One', 'Safety',\n",
       "       'Driving/Drivers', 'Site Feedback', 'Auto Type/Class',\n",
       "       'Maintenance/Repairs', 'The Show', 'Power/Fuel',\n",
       "       'General Discussion'], dtype=object)"
      ]
     },
     "execution_count": 370,
     "metadata": {},
     "output_type": "execute_result"
    }
   ],
   "source": [
    "df['Category'].unique()"
   ]
  },
  {
   "cell_type": "code",
   "execution_count": 371,
   "metadata": {},
   "outputs": [],
   "source": [
    "df = df[df.Category != ' 1990. My husband and I rented a spiffy new Cadillac in Indiana with plans to pick up my parents in Erie']"
   ]
  },
  {
   "cell_type": "code",
   "execution_count": 372,
   "metadata": {},
   "outputs": [
    {
     "data": {
      "text/plain": [
       "array(['Buying/Selling & Ask Someone Who Owns One', 'Safety',\n",
       "       'Driving/Drivers', 'Site Feedback', 'Auto Type/Class',\n",
       "       'Maintenance/Repairs', 'The Show', 'Power/Fuel',\n",
       "       'General Discussion'], dtype=object)"
      ]
     },
     "execution_count": 372,
     "metadata": {},
     "output_type": "execute_result"
    }
   ],
   "source": [
    "df['Category'].unique()"
   ]
  },
  {
   "cell_type": "code",
   "execution_count": 373,
   "metadata": {},
   "outputs": [
    {
     "data": {
      "text/plain": [
       "The Show                                     2023\n",
       "Maintenance/Repairs                          1500\n",
       "Power/Fuel                                   1315\n",
       "General Discussion                            897\n",
       "Auto Type/Class                               258\n",
       "Safety                                        187\n",
       "Buying/Selling & Ask Someone Who Owns One     172\n",
       "Driving/Drivers                               159\n",
       "Site Feedback                                  89\n",
       "Name: Category, dtype: int64"
      ]
     },
     "execution_count": 373,
     "metadata": {},
     "output_type": "execute_result"
    }
   ],
   "source": [
    "df.Category.value_counts()"
   ]
  },
  {
   "cell_type": "code",
   "execution_count": 374,
   "metadata": {},
   "outputs": [],
   "source": [
    "df.loc[df.Category == 'Buying/Selling', 'Category'] = \"Buying/Selling & Ask Someone Who Owns One\"\n",
    "df.loc[df.Category == 'Ask Someone Who Owns One', 'Category'] = \"Buying/Selling & Ask Someone Who Owns One\""
   ]
  },
  {
   "cell_type": "code",
   "execution_count": 375,
   "metadata": {},
   "outputs": [
    {
     "data": {
      "text/plain": [
       "The Show                                     2023\n",
       "Maintenance/Repairs                          1500\n",
       "Power/Fuel                                   1315\n",
       "General Discussion                            897\n",
       "Auto Type/Class                               258\n",
       "Safety                                        187\n",
       "Buying/Selling & Ask Someone Who Owns One     172\n",
       "Driving/Drivers                               159\n",
       "Site Feedback                                  89\n",
       "Name: Category, dtype: int64"
      ]
     },
     "execution_count": 375,
     "metadata": {},
     "output_type": "execute_result"
    }
   ],
   "source": [
    "df.Category.value_counts()"
   ]
  },
  {
   "cell_type": "code",
   "execution_count": 376,
   "metadata": {
    "scrolled": true
   },
   "outputs": [
    {
     "data": {
      "text/plain": [
       "array(['Buying/Selling & Ask Someone Who Owns One', 'Safety',\n",
       "       'Driving/Drivers', 'Site Feedback', 'Auto Type/Class',\n",
       "       'Maintenance/Repairs', 'The Show', 'Power/Fuel',\n",
       "       'General Discussion'], dtype=object)"
      ]
     },
     "execution_count": 376,
     "metadata": {},
     "output_type": "execute_result"
    }
   ],
   "source": [
    "df['Category'].unique()"
   ]
  },
  {
   "cell_type": "code",
   "execution_count": 377,
   "metadata": {},
   "outputs": [
    {
     "data": {
      "text/plain": [
       "0"
      ]
     },
     "execution_count": 377,
     "metadata": {},
     "output_type": "execute_result"
    }
   ],
   "source": [
    "df[\"post\"].isnull().sum()"
   ]
  },
  {
   "cell_type": "code",
   "execution_count": 378,
   "metadata": {},
   "outputs": [],
   "source": [
    "df = df[df['post'].notna()]"
   ]
  },
  {
   "cell_type": "code",
   "execution_count": 379,
   "metadata": {},
   "outputs": [
    {
     "data": {
      "text/plain": [
       "0"
      ]
     },
     "execution_count": 379,
     "metadata": {},
     "output_type": "execute_result"
    }
   ],
   "source": [
    "df[\"post\"].isnull().sum()"
   ]
  },
  {
   "cell_type": "code",
   "execution_count": 380,
   "metadata": {},
   "outputs": [
    {
     "data": {
      "text/plain": [
       "0    About the Buying/Selling category Debating a n...\n",
       "1    New Car Salesperson Commissions I’ve been work...\n",
       "2    Best used car to buy for long road trips? Hell...\n",
       "3    Honda Element any good? Are these any good and...\n",
       "4    1993 4Runner vs 2011 Mazda3 Hatch I’m conflict...\n",
       "Name: post, dtype: object"
      ]
     },
     "execution_count": 380,
     "metadata": {},
     "output_type": "execute_result"
    }
   ],
   "source": [
    "df[\"post\"].head()"
   ]
  },
  {
   "cell_type": "code",
   "execution_count": 381,
   "metadata": {},
   "outputs": [
    {
     "data": {
      "image/png": "[encoded data removed]",
      "text/plain": [
       "<Figure size 720x288 with 1 Axes>"
      ]
     },
     "metadata": {
      "needs_background": "light"
     },
     "output_type": "display_data"
    }
   ],
   "source": [
    "my_categories = ['Buying/Selling & Ask Someone Who Owns One', 'Safety',\n",
    "       'Driving/Drivers', 'Site Feedback', 'Auto Type/Class',\n",
    "       'Maintenance/Repairs', 'The Show', 'Power/Fuel',\n",
    "       'General Discussion']\n",
    "plt.figure(figsize=(10,4))\n",
    "df.Category.value_counts().plot(kind='bar');"
   ]
  },
  {
   "cell_type": "code",
   "execution_count": 382,
   "metadata": {},
   "outputs": [
    {
     "name": "stdout",
     "output_type": "stream",
     "text": [
      "Selling the leased car Hi,\n",
      "I am not familiar with the process of getting out of a lease early. So my current car lease is $600/mo and I have paid 16 mo of it, so 20 more months remaining, which I still owe $12000 to the dealer.\n",
      "Carvarna offers $50000 - 12000 (lease payoff amount) = $38000 would be the payment to me.\n",
      "Kelly Blue Book Instant Cash offer is $49500 because it didn’t ask me if my car was own or lease.\n",
      "Let’s say the residual value of the leased car is $32000, plus $12000 I still owe, I would have to pay the current dealer $47000 to buyout. I could accept Kelly’s offer, take the $49500, they get the car. I pay back the current dealer and make $2500.\n",
      "But I don’t understand why Carvarna deducts the $12000, that they would take over the lease? All i need to do is to take their $38000 net offer, pay the current dealer the residual value of the car, and make $6000? i am so confused. Any idea?\n",
      "Thank you ['You have a $12,000 lease payoff, Plus the $47,000 cash buyout = $59,000 still owed on the car.\\nYou take Kelly’s cash offer of $49,500, you still owe the dealer $9,500.\\nYou loose $9,500 and have no car.\\nCarvana pays you $38,000 and pays the dealer $12,000 lease payoff.\\nYou take the $38,000 from Carvana, and pay that to the dealer.\\nYou still owe the dealer $9,000\\nEither way you’re out $9,000 + and have no car', 'From other forums it appears that if you take the Carvana offer they would need the exact payoff amount and would then cut you a check for the difference. At least that’s what’s happened in the past.', 'Wouldn’t make more sense to talk to the leasing company and find out just what your obligations are ?', 'If you want to get out of your lease, a lease transfer is a very common practice these days.\\nleasetrader.com 2', '\\n\\n\\n Ben-C:\\n\\nBut I don’t understand why Carvarna deducts the $12000, that they would take over the lease?\\n\\n\\nBecause when you signed the lease you agreed to pay the leasing company $600/month for 36 months and a total of $12,000 in lease payments hasn’t yet been paid.', 'Thanks everyone’s response. Sorry, i made a mistake in my original post, it would be $44000.\\nBut anyways, I just found my lease agreement. It shows that the purchase option at the end of the lease will be $36000. As of today, I still have 20 payments or $12000 remaining. So $12000 payoff + the purchase option price $36000, the total cash buyout price should be $48000, right? I am confused why you added the $12000 payoff to the total $47000 ($48000 actually).\\nThank you', '\\n\\n\\n Beancounter:\\n\\nBecause when you signed the lease you agreed to pay the leasing company $600/month for 36 months and a total of $12,000 in lease payments hasn’t yet been paid.\\n\\n\\nThis part I understand. I was confused why they would deduct it if they are not going to take over the lease. If the car they think would be worth $50000, that’s how much it’s worth right? So it looks like it would make more sense to just enter $0 as the payout amount, treat it as I own the car. Take their offer, they get the car after I use their offer to pay off the payoff+buyout amount to the dealer. that’s it right? Thanks', '\\n\\n\\n Ben-C:\\n\\ntreat it as I own the car. Take their offer, they get the car. I pay off the payoff+buyout amount to the dealer. that’s it right? Thanks\\n\\n\\nYou do not own this vehicle what ever it is . They will not give you money to payoff anything . They will send it to the leasing company and there might be some left over for you but I doubt it.  I say again , you need to contact the leasing company to see what your options really are . People on a forum can make all kinds of suggestions but it will mean nothing if that is not what your leasing company wants.', 'Thank you, i have the feeling that i am starting to understand', 'If you think it’s worth 50k then sell it yourself. A dealer is not going to give you $50k.', 'It’s an easy process. Find out what your lease buyout is for today. It doesn’t matter what payments are left. You get to keep the difference between what you offered and your buyout. Many people are making a huge profit by selling their leased vehicles currently.', '\\n\\n\\n TXdealer:\\n\\nIt’s an easy process. Find out what your lease buyout is for today. It doesn’t matter what payments are left. You get to keep the difference between what you offered and your buyout. Many people are making a huge profit by selling their leased vehicles currently.\\n\\n\\nIts a short term 3 year lease he is talking about and he wants to get out of it.His best option will be to post this vehicule on leasetrader.com', 'I’m with @TXdealer - if the OP can sell his car for more than the lease company would require, today, to buy out the lease, then that’s what I would do.', 'Normally that would be good advice, however used cars have gone up dramatically in value and are currently worth substantially more then residual/buyout values. The only way to capture this is to sell/trade the vehicle outside of the normal lease turn in process.', 'Maybe it’s a real desirable rig?', 'Most all clean late model cars are ‘real desirable’ right now, there’s a shortage of new cars and car rental companies have resorted to buying used cars to restock their fleets.  So prices are UP.', 'one thing to keep in mind. some lease companies charge a fee for early termination and some a purchase option fee.', 'As Volvo-V70 pointed out, you don’t own the car, you’re just renting it, and at the end of the lease you have the option to buy it at the agreed price.\\nBefore you can sell the car you have to own it, which means completing your lease obligation of $12,000 and buying it from the lease company for the agreed price.\\nSo if Carvana is offering you $50,000 for the car, they would pay the lease company the $12,000 remaining on the lease, the agreed end of lease purchase price and deduct these amounts from the $50,000 offer, giving you only what remains.\\nBut the best advice is to carefully review your lease documents and discuss any plans with your leasing company before making any further plans.', 'You do not have the right to sell the car until the lien is paid off.Carvanna’s offer includes them paying off the lien.  Nobody is going to give you 50,000 dollars and trust you to pay off the lien. Don;t forget that offer is based on the cars condition being exactly as described and they mave disagree with your opinion of the condition when they examine the car.'] []\n",
      "Category: Buying/Selling & Ask Someone Who Owns One\n"
     ]
    }
   ],
   "source": [
    "def print_plot(index):\n",
    "    example = df[df.index == index][['post', 'Category']].values[0]\n",
    "    if len(example) > 0:\n",
    "        print(example[0])\n",
    "        print('Category:', example[1])\n",
    "print_plot(10)"
   ]
  },
  {
   "cell_type": "markdown",
   "metadata": {},
   "source": [
    "Text Pre-processing"
   ]
  },
  {
   "cell_type": "code",
   "execution_count": 383,
   "metadata": {},
   "outputs": [],
   "source": [
    "test_df = df.copy()\n",
    "test_df['post'] = test_df['post'].astype(str)"
   ]
  },
  {
   "cell_type": "code",
   "execution_count": 384,
   "metadata": {},
   "outputs": [],
   "source": [
    "REPLACE_BY_SPACE_RE = re.compile('[/(){}\\[\\]\\'\\“\\”\\’\\|@,;]')\n",
    "BAD_SYMBOLS_RE = re.compile('[^0-9a-z #+_]')\n",
    "#STOPWORDS = set(stopwords.words('english'))\n",
    "\n",
    "def clean_text(text):\n",
    "    \"\"\"\n",
    "        text: a string\n",
    "        \n",
    "        return: modified initial string\n",
    "    \"\"\"\n",
    "    text = re.sub(r'^https?:\\/\\/.*[\\r\\n]*', '', text, flags=re.MULTILINE)\n",
    "    text = BeautifulSoup(text, \"lxml\").text # HTML decoding\n",
    "    text = text.lower() # lowercase text\n",
    "    text = REPLACE_BY_SPACE_RE.sub(' ', text)# replace REPLACE_BY_SPACE_RE symbols by space in text\n",
    "    #text = text.replace(r'\\n', '')\n",
    "    text = BAD_SYMBOLS_RE.sub('', text) # delete symbols which are in BAD_SYMBOLS_RE from text\n",
    "    #text = ''.join(word for word in text if word not in punct)  # remove punctuation\n",
    "    #text = ' '.join(word for word in text.split() if word not in STOPWORDS) # delete stopwors from text\n",
    "    return text\n",
    "    \n",
    "test_df['post'] = test_df['post'].apply(clean_text)"
   ]
  },
  {
   "cell_type": "code",
   "execution_count": 385,
   "metadata": {},
   "outputs": [
    {
     "name": "stdout",
     "output_type": "stream",
     "text": [
      "selling the leased car hi i am not familiar with the process of getting out of a lease early so my current car lease is 600 mo and i have paid 16 mo of it  so 20 more months remaining  which i still owe 12000 to the dealercarvarna offers 50000  12000  lease payoff amount   38000 would be the payment to mekelly blue book instant cash offer is 49500 because it didn t ask me if my car was own or leaselet s say the residual value of the leased car is 32000  plus 12000 i still owe  i would have to pay the current dealer 47000 to buyout i could accept kelly s offer  take the 49500  they get the car i pay back the current dealer and make 2500but i don t understand why carvarna deducts the 12000  that they would take over the lease all i need to do is to take their 38000 net offer  pay the current dealer the residual value of the car  and make 6000 i am so confused any ideathank you   you have a 12 000 lease payoff  plus the 47 000 cash buyout  59 000 still owed on the carnyou take kelly s cash offer of 49 500  you still owe the dealer 9 500nyou loose 9 500 and have no carncarvana pays you 38 000 and pays the dealer 12 000 lease payoffnyou take the 38 000 from carvana  and pay that to the dealernyou still owe the dealer 9 000neither way you re out 9 000 + and have no car    from other forums it appears that if you take the carvana offer they would need the exact payoff amount and would then cut you a check for the difference at least that s what s happened in the past    wouldn t make more sense to talk to the leasing company and find out just what your obligations are     if you want to get out of your lease  a lease transfer is a very common practice these daysnleasetradercom 2    nnn bencnnbut i don t understand why carvarna deducts the 12000  that they would take over the leasennnbecause when you signed the lease you agreed to pay the leasing company 600 month for 36 months and a total of 12 000 in lease payments hasn t yet been paid    thanks everyone s response sorry  i made a mistake in my original post  it would be 44000nbut anyways  i just found my lease agreement it shows that the purchase option at the end of the lease will be 36000 as of today  i still have 20 payments or 12000 remaining so 12000 payoff + the purchase option price 36000  the total cash buyout price should be 48000  right i am confused why you added the 12000 payoff to the total 47000  48000 actually nthank you    nnn beancounternnbecause when you signed the lease you agreed to pay the leasing company 600 month for 36 months and a total of 12 000 in lease payments hasn t yet been paidnnnthis part i understand i was confused why they would deduct it if they are not going to take over the lease if the car they think would be worth 50000  that s how much it s worth right so it looks like it would make more sense to just enter 0 as the payout amount  treat it as i own the car take their offer  they get the car after i use their offer to pay off the payoff+buyout amount to the dealer that s it right thanks    nnn bencnntreat it as i own the car take their offer  they get the car i pay off the payoff+buyout amount to the dealer that s it right thanksnnnyou do not own this vehicle what ever it is  they will not give you money to payoff anything  they will send it to the leasing company and there might be some left over for you but i doubt it  i say again   you need to contact the leasing company to see what your options really are  people on a forum can make all kinds of suggestions but it will mean nothing if that is not what your leasing company wants    thank you  i have the feeling that i am starting to understand    if you think it s worth 50k then sell it yourself a dealer is not going to give you 50k    it s an easy process find out what your lease buyout is for today it doesn t matter what payments are left you get to keep the difference between what you offered and your buyout many people are making a huge profit by selling their leased vehicles currently    nnn txdealernnit s an easy process find out what your lease buyout is for today it doesn t matter what payments are left you get to keep the difference between what you offered and your buyout many people are making a huge profit by selling their leased vehicles currentlynnnits a short term 3 year lease he is talking about and he wants to get out of ithis best option will be to post this vehicule on leasetradercom    i m with  txdealer  if the op can sell his car for more than the lease company would require  today  to buy out the lease  then that s what i would do    normally that would be good advice  however used cars have gone up dramatically in value and are currently worth substantially more then residual buyout values the only way to capture this is to sell trade the vehicle outside of the normal lease turn in process    maybe it s a real desirable rig    most all clean late model cars are real desirable  right now  there s a shortage of new cars and car rental companies have resorted to buying used cars to restock their fleets  so prices are up    one thing to keep in mind some lease companies charge a fee for early termination and some a purchase option fee    as volvov70 pointed out  you don t own the car  you re just renting it  and at the end of the lease you have the option to buy it at the agreed pricenbefore you can sell the car you have to own it  which means completing your lease obligation of 12 000 and buying it from the lease company for the agreed pricenso if carvana is offering you 50 000 for the car  they would pay the lease company the 12 000 remaining on the lease  the agreed end of lease purchase price and deduct these amounts from the 50 000 offer  giving you only what remainsnbut the best advice is to carefully review your lease documents and discuss any plans with your leasing company before making any further plans    you do not have the right to sell the car until the lien is paid offcarvanna s offer includes them paying off the lien  nobody is going to give you 50 000 dollars and trust you to pay off the lien don t forget that offer is based on the cars condition being exactly as described and they mave disagree with your opinion of the condition when they examine the car     \n",
      "Category: Buying/Selling & Ask Someone Who Owns One\n"
     ]
    }
   ],
   "source": [
    "def test_print_plot(index):\n",
    "    example = test_df[test_df.index == index][['post', 'Category']].values[0]\n",
    "    if len(example) > 0:\n",
    "        print(example[0])\n",
    "        print('Category:', example[1])\n",
    "test_print_plot(10)"
   ]
  },
  {
   "cell_type": "code",
   "execution_count": 386,
   "metadata": {},
   "outputs": [
    {
     "data": {
      "text/plain": [
       "4787596"
      ]
     },
     "execution_count": 386,
     "metadata": {},
     "output_type": "execute_result"
    }
   ],
   "source": [
    "test_df['post'].apply(lambda x: len(x.split(' '))).sum()"
   ]
  },
  {
   "cell_type": "code",
   "execution_count": 387,
   "metadata": {},
   "outputs": [
    {
     "name": "stdout",
     "output_type": "stream",
     "text": [
      "lost info 479016\n"
     ]
    }
   ],
   "source": [
    "print(\"lost info\",4765518-4286502)"
   ]
  },
  {
   "cell_type": "markdown",
   "metadata": {},
   "source": [
    "Modeling the data"
   ]
  },
  {
   "cell_type": "code",
   "execution_count": 388,
   "metadata": {},
   "outputs": [],
   "source": [
    "X = test_df.post\n",
    "y = test_df.Category\n",
    "X_train, X_test, y_train, y_test = train_test_split(X, y, test_size=0.2, random_state = 42)"
   ]
  },
  {
   "cell_type": "code",
   "execution_count": 389,
   "metadata": {},
   "outputs": [
    {
     "data": {
      "text/plain": [
       "1806    2015 volkswagen gti  warnings i am driving gol...\n",
       "5312    electrical problem on 93 probe my son s car ha...\n",
       "6154    covid 19 pick up and delivery fee we need some...\n",
       "2134    2020 hyundai santa fe has a really noisy rear ...\n",
       "592     fixing a mistake on the ratings page i sure ho...\n",
       "Name: post, dtype: object"
      ]
     },
     "execution_count": 389,
     "metadata": {},
     "output_type": "execute_result"
    }
   ],
   "source": [
    "X_train.head()"
   ]
  },
  {
   "cell_type": "code",
   "execution_count": 390,
   "metadata": {},
   "outputs": [
    {
     "data": {
      "text/plain": [
       "1806    Maintenance/Repairs\n",
       "5312             Power/Fuel\n",
       "6154     General Discussion\n",
       "2134    Maintenance/Repairs\n",
       "592           Site Feedback\n",
       "Name: Category, dtype: object"
      ]
     },
     "execution_count": 390,
     "metadata": {},
     "output_type": "execute_result"
    }
   ],
   "source": [
    "y_train.head()"
   ]
  },
  {
   "cell_type": "markdown",
   "metadata": {},
   "source": [
    "## Naive Bayes Classifier for Multinomial Models\n",
    "CountVectorizer + TF-IDFTransformer + MultinomialNB"
   ]
  },
  {
   "cell_type": "code",
   "execution_count": 391,
   "metadata": {},
   "outputs": [
    {
     "name": "stdout",
     "output_type": "stream",
     "text": [
      "accuracy 0.5015151515151515\n",
      "                                           precision    recall  f1-score   support\n",
      "\n",
      "Buying/Selling & Ask Someone Who Owns One       0.00      0.00      0.00        48\n",
      "                                   Safety       0.00      0.00      0.00        39\n",
      "                          Driving/Drivers       0.00      0.00      0.00        36\n",
      "                            Site Feedback       0.00      0.00      0.00       183\n",
      "                          Auto Type/Class       0.76      0.41      0.53       286\n",
      "                      Maintenance/Repairs       0.80      0.63      0.70       260\n",
      "                                 The Show       0.00      0.00      0.00        50\n",
      "                               Power/Fuel       0.00      0.00      0.00        18\n",
      "                       General Discussion       0.40      0.95      0.56       400\n",
      "\n",
      "                                 accuracy                           0.50      1320\n",
      "                                macro avg       0.22      0.22      0.20      1320\n",
      "                             weighted avg       0.44      0.50      0.42      1320\n",
      "\n"
     ]
    },
    {
     "name": "stderr",
     "output_type": "stream",
     "text": [
      "/Users/jeff/opt/anaconda3/lib/python3.8/site-packages/sklearn/metrics/_classification.py:1245: UndefinedMetricWarning: Precision and F-score are ill-defined and being set to 0.0 in labels with no predicted samples. Use `zero_division` parameter to control this behavior.\n",
      "  _warn_prf(average, modifier, msg_start, len(result))\n",
      "/Users/jeff/opt/anaconda3/lib/python3.8/site-packages/sklearn/metrics/_classification.py:1245: UndefinedMetricWarning: Precision and F-score are ill-defined and being set to 0.0 in labels with no predicted samples. Use `zero_division` parameter to control this behavior.\n",
      "  _warn_prf(average, modifier, msg_start, len(result))\n",
      "/Users/jeff/opt/anaconda3/lib/python3.8/site-packages/sklearn/metrics/_classification.py:1245: UndefinedMetricWarning: Precision and F-score are ill-defined and being set to 0.0 in labels with no predicted samples. Use `zero_division` parameter to control this behavior.\n",
      "  _warn_prf(average, modifier, msg_start, len(result))\n"
     ]
    }
   ],
   "source": [
    "from sklearn.naive_bayes import MultinomialNB\n",
    "from sklearn.pipeline import Pipeline\n",
    "from sklearn.feature_extraction.text import TfidfTransformer\n",
    "from sklearn.metrics import classification_report\n",
    "\n",
    "def Naive_Bayes_Classifier(X_train, X_test, y_train, y_test):\n",
    "    nb = Pipeline([('vect', CountVectorizer()),\n",
    "                   ('tfidf', TfidfTransformer()),\n",
    "                   ('clf', MultinomialNB()),\n",
    "                  ])\n",
    "    nb.fit(X_train, y_train)\n",
    "\n",
    "    y_pred = nb.predict(X_test)\n",
    "\n",
    "    print('accuracy %s' % accuracy_score(y_pred, y_test))\n",
    "    \n",
    "    print(classification_report(y_test, y_pred,target_names=my_categories))\n",
    "    return accuracy_score(y_pred, y_test)\n",
    "res1311 = Naive_Bayes_Classifier(X_train, X_test, y_train, y_test)"
   ]
  },
  {
   "cell_type": "markdown",
   "metadata": {},
   "source": [
    "## Linear Support Vector Machine\n",
    "CountVectorizer + TF-IDFTransformer + SGDClassifier"
   ]
  },
  {
   "cell_type": "code",
   "execution_count": 392,
   "metadata": {},
   "outputs": [
    {
     "name": "stdout",
     "output_type": "stream",
     "text": [
      "accuracy 0.675\n",
      "                                           precision    recall  f1-score   support\n",
      "\n",
      "Buying/Selling & Ask Someone Who Owns One       0.87      0.42      0.56        48\n",
      "                                   Safety       0.71      0.13      0.22        39\n",
      "                          Driving/Drivers       0.76      0.61      0.68        36\n",
      "                            Site Feedback       0.68      0.21      0.33       183\n",
      "                          Auto Type/Class       0.63      0.79      0.70       286\n",
      "                      Maintenance/Repairs       0.70      0.92      0.80       260\n",
      "                                 The Show       0.75      0.06      0.11        50\n",
      "                               Power/Fuel       0.83      0.28      0.42        18\n",
      "                       General Discussion       0.67      0.83      0.74       400\n",
      "\n",
      "                                 accuracy                           0.68      1320\n",
      "                                macro avg       0.73      0.47      0.51      1320\n",
      "                             weighted avg       0.69      0.68      0.63      1320\n",
      "\n"
     ]
    }
   ],
   "source": [
    "from sklearn.linear_model import SGDClassifier\n",
    "\n",
    "def Linear_Support_Vector(X_train, X_test, y_train, y_test):\n",
    "    sgd = Pipeline([('vect', CountVectorizer()),\n",
    "                    ('tfidf', TfidfTransformer()),\n",
    "                    ('clf', SGDClassifier(loss='hinge', penalty='l2',alpha=1e-3, random_state=42, max_iter=5, tol=None)),\n",
    "                   ])\n",
    "    sgd.fit(X_train, y_train)\n",
    "\n",
    "    y_pred = sgd.predict(X_test)\n",
    "\n",
    "    print('accuracy %s' % accuracy_score(y_pred, y_test))\n",
    "    print(classification_report(y_test, y_pred,target_names=my_categories))\n",
    "    return accuracy_score(y_pred, y_test)\n",
    "res1321 = Linear_Support_Vector(X_train, X_test, y_train, y_test)"
   ]
  },
  {
   "cell_type": "markdown",
   "metadata": {},
   "source": [
    "## Logistic Regression\n",
    "CountVectorizer + TF-IDFTransformer + Logistic Regression"
   ]
  },
  {
   "cell_type": "code",
   "execution_count": 393,
   "metadata": {},
   "outputs": [
    {
     "name": "stderr",
     "output_type": "stream",
     "text": [
      "/Users/jeff/opt/anaconda3/lib/python3.8/site-packages/sklearn/linear_model/_logistic.py:763: ConvergenceWarning: lbfgs failed to converge (status=1):\n",
      "STOP: TOTAL NO. of ITERATIONS REACHED LIMIT.\n",
      "\n",
      "Increase the number of iterations (max_iter) or scale the data as shown in:\n",
      "    https://scikit-learn.org/stable/modules/preprocessing.html\n",
      "Please also refer to the documentation for alternative solver options:\n",
      "    https://scikit-learn.org/stable/modules/linear_model.html#logistic-regression\n",
      "  n_iter_i = _check_optimize_result(\n"
     ]
    },
    {
     "name": "stdout",
     "output_type": "stream",
     "text": [
      "accuracy 0.7553030303030303\n",
      "                                           precision    recall  f1-score   support\n",
      "\n",
      "Buying/Selling & Ask Someone Who Owns One       0.82      0.65      0.72        48\n",
      "                                   Safety       0.54      0.49      0.51        39\n",
      "                          Driving/Drivers       0.75      0.75      0.75        36\n",
      "                            Site Feedback       0.57      0.53      0.55       183\n",
      "                          Auto Type/Class       0.71      0.78      0.74       286\n",
      "                      Maintenance/Repairs       0.81      0.88      0.84       260\n",
      "                                 The Show       0.75      0.36      0.49        50\n",
      "                               Power/Fuel       0.79      0.61      0.69        18\n",
      "                       General Discussion       0.85      0.85      0.85       400\n",
      "\n",
      "                                 accuracy                           0.76      1320\n",
      "                                macro avg       0.73      0.66      0.68      1320\n",
      "                             weighted avg       0.75      0.76      0.75      1320\n",
      "\n"
     ]
    }
   ],
   "source": [
    "from sklearn.linear_model import LogisticRegression\n",
    "\n",
    "def Logistic_Regression(X_train, X_test, y_train, y_test):\n",
    "    logreg = Pipeline([('vect', CountVectorizer()),\n",
    "                    ('tfidf', TfidfTransformer()),\n",
    "                    ('clf', LogisticRegression(n_jobs=1, C=1e5)),\n",
    "                   ])\n",
    "    logreg.fit(X_train, y_train)\n",
    "\n",
    "    y_pred = logreg.predict (X_test)\n",
    "\n",
    "    print('accuracy %s' % accuracy_score(y_pred, y_test))\n",
    "    print(classification_report(y_test, y_pred,target_names=my_categories))\n",
    "    return accuracy_score(y_pred, y_test)\n",
    "res1331 = Logistic_Regression(X_train, X_test, y_train, y_test)"
   ]
  },
  {
   "cell_type": "markdown",
   "metadata": {},
   "source": [
    "Decision Tree\n",
    "CountVectorizer + TF-IDFTransformer + DecisionTreeClassifier"
   ]
  },
  {
   "cell_type": "markdown",
   "metadata": {},
   "source": [
    "## Decision Tree\n",
    "CountVectorizer + TF-IDFTransformer + DecisionTreeClassifier"
   ]
  },
  {
   "cell_type": "code",
   "execution_count": 394,
   "metadata": {},
   "outputs": [
    {
     "name": "stdout",
     "output_type": "stream",
     "text": [
      "accuracy 0.6212121212121212\n",
      "                                           precision    recall  f1-score   support\n",
      "\n",
      "Buying/Selling & Ask Someone Who Owns One       0.65      0.65      0.65        48\n",
      "                                   Safety       0.22      0.18      0.20        39\n",
      "                          Driving/Drivers       0.60      0.50      0.55        36\n",
      "                            Site Feedback       0.35      0.38      0.36       183\n",
      "                          Auto Type/Class       0.51      0.53      0.52       286\n",
      "                      Maintenance/Repairs       0.80      0.86      0.83       260\n",
      "                                 The Show       0.37      0.26      0.31        50\n",
      "                               Power/Fuel       0.27      0.17      0.21        18\n",
      "                       General Discussion       0.78      0.76      0.77       400\n",
      "\n",
      "                                 accuracy                           0.62      1320\n",
      "                                macro avg       0.51      0.48      0.49      1320\n",
      "                             weighted avg       0.62      0.62      0.62      1320\n",
      "\n"
     ]
    }
   ],
   "source": [
    "from sklearn.tree import DecisionTreeClassifier\n",
    "\n",
    "def Decision_Tree(X_train, X_test, y_train, y_test):\n",
    "    dtree = Pipeline([('vect', CountVectorizer()),\n",
    "                    ('tfidf', TfidfTransformer()),\n",
    "                    ('clf', DecisionTreeClassifier(random_state=0)),\n",
    "                   ])\n",
    "    dtree.fit(X_train, y_train)\n",
    "\n",
    "    y_pred = dtree.predict (X_test)\n",
    "\n",
    "    print('accuracy %s' % accuracy_score(y_pred, y_test))\n",
    "    print(classification_report(y_test, y_pred,target_names=my_categories))\n",
    "    return accuracy_score(y_pred, y_test)\n",
    "res1341 = Decision_Tree(X_train, X_test, y_train, y_test)"
   ]
  },
  {
   "cell_type": "markdown",
   "metadata": {},
   "source": [
    "## Results\n",
    "Results of the previously trained models"
   ]
  },
  {
   "cell_type": "code",
   "execution_count": 395,
   "metadata": {},
   "outputs": [
    {
     "data": {
      "text/html": [
       "<div>\n",
       "<style scoped>\n",
       "    .dataframe tbody tr th:only-of-type {\n",
       "        vertical-align: middle;\n",
       "    }\n",
       "\n",
       "    .dataframe tbody tr th {\n",
       "        vertical-align: top;\n",
       "    }\n",
       "\n",
       "    .dataframe thead th {\n",
       "        text-align: right;\n",
       "    }\n",
       "</style>\n",
       "<table border=\"1\" class=\"dataframe\">\n",
       "  <thead>\n",
       "    <tr style=\"text-align: right;\">\n",
       "      <th></th>\n",
       "      <th>Model</th>\n",
       "      <th>Accuracy</th>\n",
       "    </tr>\n",
       "  </thead>\n",
       "  <tbody>\n",
       "    <tr>\n",
       "      <th>0</th>\n",
       "      <td>Naive Bayes MultinomialNB</td>\n",
       "      <td>0.501515</td>\n",
       "    </tr>\n",
       "    <tr>\n",
       "      <th>3</th>\n",
       "      <td>Decision Tree</td>\n",
       "      <td>0.621212</td>\n",
       "    </tr>\n",
       "    <tr>\n",
       "      <th>1</th>\n",
       "      <td>Linear SVM</td>\n",
       "      <td>0.675000</td>\n",
       "    </tr>\n",
       "    <tr>\n",
       "      <th>2</th>\n",
       "      <td>Logistic Regression</td>\n",
       "      <td>0.755303</td>\n",
       "    </tr>\n",
       "  </tbody>\n",
       "</table>\n",
       "</div>"
      ],
      "text/plain": [
       "                       Model  Accuracy\n",
       "0  Naive Bayes MultinomialNB  0.501515\n",
       "3              Decision Tree  0.621212\n",
       "1                 Linear SVM  0.675000\n",
       "2        Logistic Regression  0.755303"
      ]
     },
     "execution_count": 395,
     "metadata": {},
     "output_type": "execute_result"
    }
   ],
   "source": [
    "import pandas as pd\n",
    "\n",
    "results = pd.DataFrame({'Model': ['Naive Bayes MultinomialNB', 'Linear SVM', 'Logistic Regression', 'Decision Tree'],\n",
    "                         'Accuracy': [res1311, res1321, res1331, res1341]})\n",
    "results.set_index('Model')\n",
    "results.sort_values(by='Accuracy')"
   ]
  },
  {
   "cell_type": "markdown",
   "metadata": {},
   "source": [
    "Cross Validation with linear SVM"
   ]
  },
  {
   "cell_type": "code",
   "execution_count": 396,
   "metadata": {},
   "outputs": [],
   "source": [
    "from sklearn.linear_model import SGDClassifier\n",
    "from sklearn.model_selection import cross_val_score\n",
    "import numpy as np\n",
    "\n",
    "def Mean_cv_res_sgd(X_train,y_train):\n",
    "    sgd = Pipeline([('vect', CountVectorizer()),\n",
    "                    ('tfidf', TfidfTransformer()),\n",
    "                    ('clf', SGDClassifier(loss='hinge', penalty='l2',alpha=1e-3, random_state=42, max_iter=5, tol=None)),\n",
    "                   ])\n",
    "    cv_res_sgd = cross_val_score(sgd, X_train, y_train, cv=10)\n",
    "    mean_cv_res_sgd = np.mean(cv_res_sgd)\n",
    "    return (mean_cv_res_sgd)\n",
    "mean_cv_res_sgd = Mean_cv_res_sgd(X_train,y_train)"
   ]
  },
  {
   "cell_type": "code",
   "execution_count": 397,
   "metadata": {},
   "outputs": [
    {
     "name": "stdout",
     "output_type": "stream",
     "text": [
      "0.6795454545454545\n"
     ]
    }
   ],
   "source": [
    "print(mean_cv_res_sgd)"
   ]
  },
  {
   "cell_type": "markdown",
   "metadata": {},
   "source": [
    "## Strategy 2\n",
    "Remove stop words (+ what was done in Strategy 1)"
   ]
  },
  {
   "cell_type": "code",
   "execution_count": 398,
   "metadata": {},
   "outputs": [],
   "source": [
    "# test_df2 = test_df.copy()"
   ]
  },
  {
   "cell_type": "code",
   "execution_count": 399,
   "metadata": {},
   "outputs": [],
   "source": [
    "# REPLACE_BY_SPACE_RE = re.compile('[/(){}\\[\\]\\'\\“\\”\\’\\|@,;]')\n",
    "# BAD_SYMBOLS_RE = re.compile('[^0-9a-z #+_]')\n",
    "# STOPWORDS = set(stopwords.words('english'))\n",
    "\n",
    "# def clean_text(text):\n",
    "#     \"\"\"\n",
    "#         text: a string\n",
    "        \n",
    "#         return: modified initial string\n",
    "#     \"\"\"\n",
    "#     text = BeautifulSoup(text, \"lxml\").text # HTML decoding\n",
    "#     text = text.lower() # lowercase text\n",
    "#     text = REPLACE_BY_SPACE_RE.sub(' ', text) # replace REPLACE_BY_SPACE_RE symbols by space in text\n",
    "#     #text = BAD_SYMBOLS_RE.sub('', text) # delete symbols which are in BAD_SYMBOLS_RE from text\n",
    "#     #text = ''.join(word for word in text if word not in punct)  # remove punctuation\n",
    "#     text = ' '.join(word for word in text.split() if word not in STOPWORDS) # delete stopwors from text\n",
    "#     return text\n",
    "    \n",
    "# test_df2['post'] = test_df2['post'].apply(clean_text)"
   ]
  },
  {
   "cell_type": "code",
   "execution_count": 400,
   "metadata": {},
   "outputs": [],
   "source": [
    "# def test_print_plot(index):\n",
    "#     example = test_df2[test_df2.index == index][['post', 'Category']].values[0]\n",
    "#     if len(example) > 0:\n",
    "#         print(example[0])\n",
    "#         print('Category:', example[1])\n",
    "# test_print_plot(10)"
   ]
  },
  {
   "cell_type": "markdown",
   "metadata": {},
   "source": [
    "## Modeling the data"
   ]
  },
  {
   "cell_type": "code",
   "execution_count": 401,
   "metadata": {},
   "outputs": [],
   "source": [
    "# X = test_df2.post\n",
    "# y = test_df2.Category\n",
    "# X_train, X_test, y_train, y_test = train_test_split(X, y, test_size=0.3, random_state = 42)"
   ]
  },
  {
   "cell_type": "markdown",
   "metadata": {},
   "source": [
    "## Naive Bayes Classifier for Multinomial Models\n",
    "CountVectorizer + TF-IDFTransformer + MultinomialNB"
   ]
  },
  {
   "cell_type": "code",
   "execution_count": 402,
   "metadata": {},
   "outputs": [],
   "source": [
    "# res2311 = Naive_Bayes_Classifier(X_train, X_test, y_train, y_test)"
   ]
  },
  {
   "cell_type": "markdown",
   "metadata": {},
   "source": [
    "## Linear Support Vector Machine\n",
    "CountVectorizer + TF-IDFTransformer + SGDClassifier"
   ]
  },
  {
   "cell_type": "code",
   "execution_count": 403,
   "metadata": {},
   "outputs": [],
   "source": [
    "# res2321 = Linear_Support_Vector(X_train, X_test, y_train, y_test)"
   ]
  },
  {
   "cell_type": "markdown",
   "metadata": {},
   "source": [
    "## Logistic Regression\n",
    "CountVectorizer + TF-IDFTransformer + Logistic Regression"
   ]
  },
  {
   "cell_type": "code",
   "execution_count": 404,
   "metadata": {},
   "outputs": [],
   "source": [
    "# res2331 = Logistic_Regression(X_train, X_test, y_train, y_test)"
   ]
  },
  {
   "cell_type": "markdown",
   "metadata": {},
   "source": [
    "## Decision Tree\n",
    "CountVectorizer + TF-IDFTransformer + DecisionTreeClassifier"
   ]
  },
  {
   "cell_type": "code",
   "execution_count": 405,
   "metadata": {},
   "outputs": [],
   "source": [
    "# res2341 = Decision_Tree(X_train, X_test, y_train, y_test)"
   ]
  },
  {
   "cell_type": "code",
   "execution_count": 406,
   "metadata": {},
   "outputs": [],
   "source": [
    "# from sklearn.metrics import confusion_matrix\n",
    "# import seaborn as sns\n",
    "\n",
    "# conf_mat = confusion_matrix(y_test, y_pred)\n",
    "# fig, ax = plt.subplots(figsize=(10,10))\n",
    "# sns.heatmap(conf_mat, annot=True, fmt='d',\n",
    "#             xticklabels=my_categories, yticklabels=my_categories)\n",
    "# plt.ylabel('Actual')\n",
    "# plt.xlabel('Predicted')\n",
    "# plt.show()"
   ]
  },
  {
   "cell_type": "markdown",
   "metadata": {},
   "source": [
    "## Results\n",
    "Results of the previously trained models"
   ]
  },
  {
   "cell_type": "code",
   "execution_count": 407,
   "metadata": {},
   "outputs": [],
   "source": [
    "# import pandas as pd\n",
    "\n",
    "# results = pd.DataFrame({'Model': ['Naive Bayes MultinomialNB', 'Linear SVM', 'Logistic Regression', 'Decision Tree'],\n",
    "#                          'Accuracy': [res2311, res2321, res2331, res2341]})\n",
    "# results.set_index('Model')\n",
    "# results.sort_values(by='Accuracy')"
   ]
  },
  {
   "cell_type": "markdown",
   "metadata": {},
   "source": [
    "### Cross Validation with linear SVM"
   ]
  },
  {
   "cell_type": "code",
   "execution_count": 408,
   "metadata": {},
   "outputs": [],
   "source": [
    "# mean_cv_res_sgd2 = Mean_cv_res_sgd(X_train, y_train)\n",
    "# print(mean_cv_res_sgd2)"
   ]
  },
  {
   "cell_type": "markdown",
   "metadata": {},
   "source": [
    "## Strategy 3\n",
    "text.replace(r'\\n', ' ') + Strategy 2"
   ]
  },
  {
   "cell_type": "code",
   "execution_count": 409,
   "metadata": {},
   "outputs": [],
   "source": [
    "# test_df3 = test_df2.copy()"
   ]
  },
  {
   "cell_type": "code",
   "execution_count": 410,
   "metadata": {},
   "outputs": [],
   "source": [
    "# REPLACE_BY_SPACE_RE = re.compile('[/(){}\\[\\]\\'\\“\\”\\’\\|@,;]')\n",
    "# BAD_SYMBOLS_RE = re.compile('[^0-9a-z #+_]')\n",
    "# STOPWORDS = set(stopwords.words('english'))\n",
    "\n",
    "# def clean_text(text):\n",
    "#     \"\"\"\n",
    "#         text: a string\n",
    "        \n",
    "#         return: modified initial string\n",
    "#     \"\"\"\n",
    "#     text = BeautifulSoup(text, \"lxml\").text # HTML decoding\n",
    "#     text = text.lower() # lowercase text\n",
    "#     text = REPLACE_BY_SPACE_RE.sub(' ', text) # replace REPLACE_BY_SPACE_RE symbols by space in text\n",
    "#     text = text.replace(r'\\n', ' ')\n",
    "#     #text = BAD_SYMBOLS_RE.sub('', text) # delete symbols which are in BAD_SYMBOLS_RE from text\n",
    "#     #text = ''.join(word for word in text if word not in punct)  # remove punctuation\n",
    "#     text = ' '.join(word for word in text.split() if word not in STOPWORDS) # delete stopwors from text\n",
    "#     return text\n",
    "    \n",
    "# test_df3['post'] = test_df3['post'].apply(clean_text)"
   ]
  },
  {
   "cell_type": "code",
   "execution_count": 411,
   "metadata": {},
   "outputs": [],
   "source": [
    "# def test_print_plot(index):\n",
    "#     example = test_df3[test_df3.index == index][['post', 'Category']].values[0]\n",
    "#     if len(example) > 0:\n",
    "#         print(example[0])\n",
    "#         print('Category:', example[1])\n",
    "# test_print_plot(10)"
   ]
  },
  {
   "cell_type": "code",
   "execution_count": 412,
   "metadata": {},
   "outputs": [],
   "source": [
    "# res3311 = Naive_Bayes_Classifier(X_train, X_test, y_train, y_test)"
   ]
  },
  {
   "cell_type": "code",
   "execution_count": 413,
   "metadata": {},
   "outputs": [],
   "source": [
    "# res3321 = Linear_Support_Vector(X_train, X_test, y_train, y_test)"
   ]
  },
  {
   "cell_type": "code",
   "execution_count": 414,
   "metadata": {},
   "outputs": [],
   "source": [
    "# res3331 = Logistic_Regression(X_train, X_test, y_train, y_test)"
   ]
  },
  {
   "cell_type": "code",
   "execution_count": 415,
   "metadata": {},
   "outputs": [],
   "source": [
    "# res3341 = Decision_Tree(X_train, X_test, y_train, y_test)"
   ]
  },
  {
   "cell_type": "code",
   "execution_count": 416,
   "metadata": {},
   "outputs": [],
   "source": [
    "# import pandas as pd\n",
    "\n",
    "# results = pd.DataFrame({'Model': ['Naive Bayes MultinomialNB', 'Linear SVM', 'Logistic Regression', 'Decision Tree'],\n",
    "#                          'Accuracy': [res3311, res3321, res3331, res3341]})\n",
    "# results.set_index('Model')\n",
    "# results.sort_values(by='Accuracy')"
   ]
  },
  {
   "cell_type": "markdown",
   "metadata": {},
   "source": [
    "## Cross Validation with linear SVM"
   ]
  },
  {
   "cell_type": "code",
   "execution_count": 417,
   "metadata": {},
   "outputs": [],
   "source": [
    "# X = test_df3.post\n",
    "# y = test_df3.Category\n",
    "# X_train, X_test, y_train, y_test = train_test_split(X, y, test_size=0.3, random_state = 42)"
   ]
  },
  {
   "cell_type": "code",
   "execution_count": 418,
   "metadata": {},
   "outputs": [],
   "source": [
    "# mean_cv_res_sgd3 = Mean_cv_res_sgd(X_train, y_train)\n",
    "# print(mean_cv_res_sgd3)"
   ]
  },
  {
   "cell_type": "markdown",
   "metadata": {},
   "source": [
    "## Random Forest"
   ]
  },
  {
   "cell_type": "code",
   "execution_count": 419,
   "metadata": {},
   "outputs": [],
   "source": [
    "from sklearn.ensemble import RandomForestClassifier\n",
    "from sklearn.model_selection import cross_val_score\n",
    "import numpy as np\n",
    "\n",
    "def Mean_cv_res_rf(X_train, y_train,m,n):\n",
    "    rf = Pipeline([('vect', CountVectorizer()),\n",
    "                    ('tfidf', TfidfTransformer()),\n",
    "                    ('clf', RandomForestClassifier(n_estimators=n, max_depth=m, random_state=0)),\n",
    "                   ])\n",
    "\n",
    "    cv_res_rf = cross_val_score(rf, X_train, y_train, cv=10)\n",
    "    mean_cv_res_rf = np.mean(cv_res_rf)\n",
    "    return mean_cv_res_rf"
   ]
  },
  {
   "cell_type": "code",
   "execution_count": 420,
   "metadata": {},
   "outputs": [],
   "source": [
    "# print(Mean_cv_res_rf(X_train, y_train,10,300))"
   ]
  },
  {
   "cell_type": "code",
   "execution_count": 421,
   "metadata": {},
   "outputs": [],
   "source": [
    "# print(Mean_cv_res_rf(X_train, y_train,100,300))"
   ]
  },
  {
   "cell_type": "code",
   "execution_count": 422,
   "metadata": {},
   "outputs": [],
   "source": [
    "# print(Mean_cv_res_rf(X_train, y_train,500,300))"
   ]
  },
  {
   "cell_type": "code",
   "execution_count": 423,
   "metadata": {},
   "outputs": [],
   "source": [
    "# print(Mean_cv_res_rf(X_train, y_train,500,400))"
   ]
  },
  {
   "cell_type": "code",
   "execution_count": 424,
   "metadata": {},
   "outputs": [],
   "source": [
    "# print(Mean_cv_res_rf(X_train, y_train,1000,400))"
   ]
  },
  {
   "cell_type": "code",
   "execution_count": 425,
   "metadata": {},
   "outputs": [],
   "source": [
    "# print(Mean_cv_res_rf(X_train, y_train,500,500))"
   ]
  },
  {
   "cell_type": "code",
   "execution_count": 426,
   "metadata": {},
   "outputs": [],
   "source": [
    "def Mean_cv_res_tfidf(X_train, y_train,m,n):\n",
    "    rf = Pipeline([('vect', TfidfVectorizer()),\n",
    "                ('tfidf', TfidfTransformer()),\n",
    "                ('clf', RandomForestClassifier(n_estimators=n, max_depth=m, random_state=0)),\n",
    "               ])\n",
    "\n",
    "    cv_res_rf_tfidf = cross_val_score(rf, X_train, y_train, cv=10)\n",
    "    mean_cv_res_rf_tfidf = np.mean(cv_res_rf_tfidf)\n",
    "    return mean_cv_res_rf_tfidf"
   ]
  },
  {
   "cell_type": "code",
   "execution_count": 427,
   "metadata": {},
   "outputs": [
    {
     "name": "stdout",
     "output_type": "stream",
     "text": [
      "0.6431818181818182\n"
     ]
    }
   ],
   "source": [
    "print(Mean_cv_res_tfidf(X_train, y_train,500,500))"
   ]
  },
  {
   "cell_type": "code",
   "execution_count": 428,
   "metadata": {},
   "outputs": [],
   "source": [
    "# print(Mean_cv_res_tfidf(X_train, y_train,200,100))"
   ]
  },
  {
   "cell_type": "markdown",
   "metadata": {},
   "source": [
    "Using TF-IDF as a vectorizer and transformer is slighly better than using CountVectorizer as a Vectorizer."
   ]
  },
  {
   "cell_type": "code",
   "execution_count": 429,
   "metadata": {},
   "outputs": [],
   "source": [
    "def Mean_cv_res_sgd_tfidf(X_train, y_train, max_iter):\n",
    "    sgd = Pipeline([('vect', TfidfVectorizer()),\n",
    "                    ('tfidf', TfidfTransformer()),\n",
    "                    ('clf', SGDClassifier(loss='hinge', penalty='l2',alpha=1e-3, random_state=42, max_iter=max_iter, tol=None)),\n",
    "                   ])\n",
    "    cv_res_sgd_tfidf = cross_val_score(sgd, X_train, y_train, cv=10)\n",
    "    mean_cv_res_sgd_tfidf = np.mean(cv_res_sgd_tfidf)\n",
    "    return mean_cv_res_sgd_tfidf\n"
   ]
  },
  {
   "cell_type": "code",
   "execution_count": 430,
   "metadata": {},
   "outputs": [],
   "source": [
    "mean_cv_res_sgd_tfidf = Mean_cv_res_sgd_tfidf(X_train, y_train, 10)"
   ]
  },
  {
   "cell_type": "code",
   "execution_count": 431,
   "metadata": {},
   "outputs": [
    {
     "name": "stdout",
     "output_type": "stream",
     "text": [
      "0.6816287878787878\n"
     ]
    }
   ],
   "source": [
    "mean_cv_res_sgd_tfidf = Mean_cv_res_sgd_tfidf(X_train, y_train, 100)\n",
    "print(mean_cv_res_sgd_tfidf)"
   ]
  },
  {
   "cell_type": "markdown",
   "metadata": {},
   "source": [
    "## XGBoost"
   ]
  },
  {
   "cell_type": "code",
   "execution_count": 432,
   "metadata": {},
   "outputs": [
    {
     "name": "stdout",
     "output_type": "stream",
     "text": [
      "Requirement already satisfied: xgboost in /Users/jeff/opt/anaconda3/lib/python3.8/site-packages (1.4.2)\n",
      "Requirement already satisfied: numpy in /Users/jeff/opt/anaconda3/lib/python3.8/site-packages (from xgboost) (1.20.1)\n",
      "Requirement already satisfied: scipy in /Users/jeff/opt/anaconda3/lib/python3.8/site-packages (from xgboost) (1.6.2)\n"
     ]
    }
   ],
   "source": [
    "import sys\n",
    "!{sys.executable} -m pip install xgboost"
   ]
  },
  {
   "cell_type": "code",
   "execution_count": 433,
   "metadata": {},
   "outputs": [
    {
     "name": "stderr",
     "output_type": "stream",
     "text": [
      "/Users/jeff/opt/anaconda3/lib/python3.8/site-packages/xgboost/sklearn.py:1146: UserWarning: The use of label encoder in XGBClassifier is deprecated and will be removed in a future release. To remove this warning, do the following: 1) Pass option use_label_encoder=False when constructing XGBClassifier object; and 2) Encode your labels (y) as integers starting with 0, i.e. 0, 1, 2, ..., [num_class - 1].\n",
      "  warnings.warn(label_encoder_deprecation_msg, UserWarning)\n"
     ]
    },
    {
     "name": "stdout",
     "output_type": "stream",
     "text": [
      "[09:54:55] WARNING: /Users/travis/build/dmlc/xgboost/src/learner.cc:1095: Starting in XGBoost 1.3.0, the default evaluation metric used with the objective 'multi:softprob' was changed from 'merror' to 'mlogloss'. Explicitly set eval_metric if you'd like to restore the old behavior.\n"
     ]
    },
    {
     "name": "stderr",
     "output_type": "stream",
     "text": [
      "/Users/jeff/opt/anaconda3/lib/python3.8/site-packages/xgboost/sklearn.py:1146: UserWarning: The use of label encoder in XGBClassifier is deprecated and will be removed in a future release. To remove this warning, do the following: 1) Pass option use_label_encoder=False when constructing XGBClassifier object; and 2) Encode your labels (y) as integers starting with 0, i.e. 0, 1, 2, ..., [num_class - 1].\n",
      "  warnings.warn(label_encoder_deprecation_msg, UserWarning)\n"
     ]
    },
    {
     "name": "stdout",
     "output_type": "stream",
     "text": [
      "[09:57:46] WARNING: /Users/travis/build/dmlc/xgboost/src/learner.cc:1095: Starting in XGBoost 1.3.0, the default evaluation metric used with the objective 'multi:softprob' was changed from 'merror' to 'mlogloss'. Explicitly set eval_metric if you'd like to restore the old behavior.\n"
     ]
    },
    {
     "name": "stderr",
     "output_type": "stream",
     "text": [
      "/Users/jeff/opt/anaconda3/lib/python3.8/site-packages/xgboost/sklearn.py:1146: UserWarning: The use of label encoder in XGBClassifier is deprecated and will be removed in a future release. To remove this warning, do the following: 1) Pass option use_label_encoder=False when constructing XGBClassifier object; and 2) Encode your labels (y) as integers starting with 0, i.e. 0, 1, 2, ..., [num_class - 1].\n",
      "  warnings.warn(label_encoder_deprecation_msg, UserWarning)\n"
     ]
    },
    {
     "name": "stdout",
     "output_type": "stream",
     "text": [
      "[10:00:31] WARNING: /Users/travis/build/dmlc/xgboost/src/learner.cc:1095: Starting in XGBoost 1.3.0, the default evaluation metric used with the objective 'multi:softprob' was changed from 'merror' to 'mlogloss'. Explicitly set eval_metric if you'd like to restore the old behavior.\n"
     ]
    },
    {
     "name": "stderr",
     "output_type": "stream",
     "text": [
      "/Users/jeff/opt/anaconda3/lib/python3.8/site-packages/xgboost/sklearn.py:1146: UserWarning: The use of label encoder in XGBClassifier is deprecated and will be removed in a future release. To remove this warning, do the following: 1) Pass option use_label_encoder=False when constructing XGBClassifier object; and 2) Encode your labels (y) as integers starting with 0, i.e. 0, 1, 2, ..., [num_class - 1].\n",
      "  warnings.warn(label_encoder_deprecation_msg, UserWarning)\n"
     ]
    },
    {
     "name": "stdout",
     "output_type": "stream",
     "text": [
      "[10:03:26] WARNING: /Users/travis/build/dmlc/xgboost/src/learner.cc:1095: Starting in XGBoost 1.3.0, the default evaluation metric used with the objective 'multi:softprob' was changed from 'merror' to 'mlogloss'. Explicitly set eval_metric if you'd like to restore the old behavior.\n"
     ]
    },
    {
     "name": "stderr",
     "output_type": "stream",
     "text": [
      "/Users/jeff/opt/anaconda3/lib/python3.8/site-packages/xgboost/sklearn.py:1146: UserWarning: The use of label encoder in XGBClassifier is deprecated and will be removed in a future release. To remove this warning, do the following: 1) Pass option use_label_encoder=False when constructing XGBClassifier object; and 2) Encode your labels (y) as integers starting with 0, i.e. 0, 1, 2, ..., [num_class - 1].\n",
      "  warnings.warn(label_encoder_deprecation_msg, UserWarning)\n"
     ]
    },
    {
     "name": "stdout",
     "output_type": "stream",
     "text": [
      "[10:06:25] WARNING: /Users/travis/build/dmlc/xgboost/src/learner.cc:1095: Starting in XGBoost 1.3.0, the default evaluation metric used with the objective 'multi:softprob' was changed from 'merror' to 'mlogloss'. Explicitly set eval_metric if you'd like to restore the old behavior.\n"
     ]
    },
    {
     "name": "stderr",
     "output_type": "stream",
     "text": [
      "/Users/jeff/opt/anaconda3/lib/python3.8/site-packages/xgboost/sklearn.py:1146: UserWarning: The use of label encoder in XGBClassifier is deprecated and will be removed in a future release. To remove this warning, do the following: 1) Pass option use_label_encoder=False when constructing XGBClassifier object; and 2) Encode your labels (y) as integers starting with 0, i.e. 0, 1, 2, ..., [num_class - 1].\n",
      "  warnings.warn(label_encoder_deprecation_msg, UserWarning)\n"
     ]
    },
    {
     "name": "stdout",
     "output_type": "stream",
     "text": [
      "[10:09:42] WARNING: /Users/travis/build/dmlc/xgboost/src/learner.cc:1095: Starting in XGBoost 1.3.0, the default evaluation metric used with the objective 'multi:softprob' was changed from 'merror' to 'mlogloss'. Explicitly set eval_metric if you'd like to restore the old behavior.\n"
     ]
    },
    {
     "name": "stderr",
     "output_type": "stream",
     "text": [
      "/Users/jeff/opt/anaconda3/lib/python3.8/site-packages/xgboost/sklearn.py:1146: UserWarning: The use of label encoder in XGBClassifier is deprecated and will be removed in a future release. To remove this warning, do the following: 1) Pass option use_label_encoder=False when constructing XGBClassifier object; and 2) Encode your labels (y) as integers starting with 0, i.e. 0, 1, 2, ..., [num_class - 1].\n",
      "  warnings.warn(label_encoder_deprecation_msg, UserWarning)\n"
     ]
    },
    {
     "name": "stdout",
     "output_type": "stream",
     "text": [
      "[10:12:54] WARNING: /Users/travis/build/dmlc/xgboost/src/learner.cc:1095: Starting in XGBoost 1.3.0, the default evaluation metric used with the objective 'multi:softprob' was changed from 'merror' to 'mlogloss'. Explicitly set eval_metric if you'd like to restore the old behavior.\n"
     ]
    },
    {
     "name": "stderr",
     "output_type": "stream",
     "text": [
      "/Users/jeff/opt/anaconda3/lib/python3.8/site-packages/xgboost/sklearn.py:1146: UserWarning: The use of label encoder in XGBClassifier is deprecated and will be removed in a future release. To remove this warning, do the following: 1) Pass option use_label_encoder=False when constructing XGBClassifier object; and 2) Encode your labels (y) as integers starting with 0, i.e. 0, 1, 2, ..., [num_class - 1].\n",
      "  warnings.warn(label_encoder_deprecation_msg, UserWarning)\n"
     ]
    },
    {
     "name": "stdout",
     "output_type": "stream",
     "text": [
      "[10:15:58] WARNING: /Users/travis/build/dmlc/xgboost/src/learner.cc:1095: Starting in XGBoost 1.3.0, the default evaluation metric used with the objective 'multi:softprob' was changed from 'merror' to 'mlogloss'. Explicitly set eval_metric if you'd like to restore the old behavior.\n"
     ]
    },
    {
     "name": "stderr",
     "output_type": "stream",
     "text": [
      "/Users/jeff/opt/anaconda3/lib/python3.8/site-packages/xgboost/sklearn.py:1146: UserWarning: The use of label encoder in XGBClassifier is deprecated and will be removed in a future release. To remove this warning, do the following: 1) Pass option use_label_encoder=False when constructing XGBClassifier object; and 2) Encode your labels (y) as integers starting with 0, i.e. 0, 1, 2, ..., [num_class - 1].\n",
      "  warnings.warn(label_encoder_deprecation_msg, UserWarning)\n"
     ]
    },
    {
     "name": "stdout",
     "output_type": "stream",
     "text": [
      "[10:19:02] WARNING: /Users/travis/build/dmlc/xgboost/src/learner.cc:1095: Starting in XGBoost 1.3.0, the default evaluation metric used with the objective 'multi:softprob' was changed from 'merror' to 'mlogloss'. Explicitly set eval_metric if you'd like to restore the old behavior.\n"
     ]
    },
    {
     "name": "stderr",
     "output_type": "stream",
     "text": [
      "/Users/jeff/opt/anaconda3/lib/python3.8/site-packages/xgboost/sklearn.py:1146: UserWarning: The use of label encoder in XGBClassifier is deprecated and will be removed in a future release. To remove this warning, do the following: 1) Pass option use_label_encoder=False when constructing XGBClassifier object; and 2) Encode your labels (y) as integers starting with 0, i.e. 0, 1, 2, ..., [num_class - 1].\n",
      "  warnings.warn(label_encoder_deprecation_msg, UserWarning)\n"
     ]
    },
    {
     "name": "stdout",
     "output_type": "stream",
     "text": [
      "[10:22:13] WARNING: /Users/travis/build/dmlc/xgboost/src/learner.cc:1095: Starting in XGBoost 1.3.0, the default evaluation metric used with the objective 'multi:softprob' was changed from 'merror' to 'mlogloss'. Explicitly set eval_metric if you'd like to restore the old behavior.\n"
     ]
    }
   ],
   "source": [
    "import xgboost as xgb\n",
    "\n",
    "xgb = Pipeline(steps=[('vect', TfidfVectorizer()),\n",
    "                      ('tfidf', TfidfTransformer()),\n",
    "                      ('xgboost', xgb.XGBClassifier(objective='multi:softmax'))])\n",
    "\n",
    "cv_res_xgb_tfidf = cross_val_score(xgb, X_train, y_train, cv=10)\n",
    "mean_cv_res_xgb_tfidf = np.mean(cv_res_xgb_tfidf)"
   ]
  },
  {
   "cell_type": "code",
   "execution_count": 434,
   "metadata": {},
   "outputs": [
    {
     "data": {
      "text/plain": [
       "0.7685606060606062"
      ]
     },
     "execution_count": 434,
     "metadata": {},
     "output_type": "execute_result"
    }
   ],
   "source": [
    "mean_cv_res_xgb_tfidf"
   ]
  },
  {
   "cell_type": "code",
   "execution_count": 435,
   "metadata": {},
   "outputs": [
    {
     "name": "stderr",
     "output_type": "stream",
     "text": [
      "/Users/jeff/opt/anaconda3/lib/python3.8/site-packages/xgboost/sklearn.py:1146: UserWarning: The use of label encoder in XGBClassifier is deprecated and will be removed in a future release. To remove this warning, do the following: 1) Pass option use_label_encoder=False when constructing XGBClassifier object; and 2) Encode your labels (y) as integers starting with 0, i.e. 0, 1, 2, ..., [num_class - 1].\n",
      "  warnings.warn(label_encoder_deprecation_msg, UserWarning)\n"
     ]
    },
    {
     "name": "stdout",
     "output_type": "stream",
     "text": [
      "[10:25:24] WARNING: /Users/travis/build/dmlc/xgboost/src/learner.cc:1095: Starting in XGBoost 1.3.0, the default evaluation metric used with the objective 'multi:softprob' was changed from 'merror' to 'mlogloss'. Explicitly set eval_metric if you'd like to restore the old behavior.\n"
     ]
    }
   ],
   "source": [
    "xgb.fit(X_train, y_train)\n",
    "y_pred = xgb.predict(X_test)"
   ]
  },
  {
   "cell_type": "code",
   "execution_count": 436,
   "metadata": {},
   "outputs": [
    {
     "name": "stdout",
     "output_type": "stream",
     "text": [
      "accuracy 0.7515151515151515\n",
      "                                           precision    recall  f1-score   support\n",
      "\n",
      "Buying/Selling & Ask Someone Who Owns One       0.95      0.85      0.90        48\n",
      "                                   Safety       0.88      0.18      0.30        39\n",
      "                          Driving/Drivers       1.00      0.78      0.88        36\n",
      "                            Site Feedback       0.55      0.54      0.54       183\n",
      "                          Auto Type/Class       0.67      0.78      0.72       286\n",
      "                      Maintenance/Repairs       0.83      0.90      0.86       260\n",
      "                                 The Show       0.70      0.14      0.23        50\n",
      "                               Power/Fuel       0.67      0.22      0.33        18\n",
      "                       General Discussion       0.81      0.88      0.84       400\n",
      "\n",
      "                                 accuracy                           0.75      1320\n",
      "                                macro avg       0.78      0.58      0.62      1320\n",
      "                             weighted avg       0.75      0.75      0.74      1320\n",
      "\n"
     ]
    }
   ],
   "source": [
    "print('accuracy %s' % accuracy_score(y_pred, y_test))\n",
    "res_xgb = accuracy_score(y_pred, y_test)\n",
    "print(classification_report(y_test, y_pred,target_names=my_categories))"
   ]
  },
  {
   "cell_type": "code",
   "execution_count": 437,
   "metadata": {},
   "outputs": [
    {
     "data": {
      "image/png": "[encoded data removed]",
      "text/plain": [
       "<Figure size 720x720 with 2 Axes>"
      ]
     },
     "metadata": {
      "needs_background": "light"
     },
     "output_type": "display_data"
    }
   ],
   "source": [
    "import seaborn as sns\n",
    "conf_mat = confusion_matrix(y_test, y_pred)\n",
    "fig, ax = plt.subplots(figsize=(10,10))\n",
    "sns.heatmap(conf_mat, annot=True, fmt='d',\n",
    "            xticklabels=my_categories, yticklabels=my_categories)\n",
    "plt.ylabel('Actual')\n",
    "plt.xlabel('Predicted')\n",
    "plt.show()"
   ]
  },
  {
   "cell_type": "markdown",
   "metadata": {},
   "source": [
    "## Light GBM"
   ]
  },
  {
   "cell_type": "code",
   "execution_count": 438,
   "metadata": {},
   "outputs": [
    {
     "name": "stdout",
     "output_type": "stream",
     "text": [
      "Requirement already satisfied: lightgbm in /Users/jeff/opt/anaconda3/lib/python3.8/site-packages (3.2.1)\n",
      "Requirement already satisfied: wheel in /Users/jeff/opt/anaconda3/lib/python3.8/site-packages (from lightgbm) (0.36.2)\n",
      "Requirement already satisfied: numpy in /Users/jeff/opt/anaconda3/lib/python3.8/site-packages (from lightgbm) (1.20.1)\n",
      "Requirement already satisfied: scikit-learn!=0.22.0 in /Users/jeff/opt/anaconda3/lib/python3.8/site-packages (from lightgbm) (0.24.1)\n",
      "Requirement already satisfied: scipy in /Users/jeff/opt/anaconda3/lib/python3.8/site-packages (from lightgbm) (1.6.2)\n",
      "Requirement already satisfied: threadpoolctl>=2.0.0 in /Users/jeff/opt/anaconda3/lib/python3.8/site-packages (from scikit-learn!=0.22.0->lightgbm) (2.1.0)\n",
      "Requirement already satisfied: joblib>=0.11 in /Users/jeff/opt/anaconda3/lib/python3.8/site-packages (from scikit-learn!=0.22.0->lightgbm) (1.0.1)\n"
     ]
    }
   ],
   "source": [
    "import sys\n",
    "!{sys.executable} -m pip install lightgbm"
   ]
  },
  {
   "cell_type": "code",
   "execution_count": 439,
   "metadata": {},
   "outputs": [],
   "source": [
    "import lightgbm as lgbm\n",
    "\n",
    "tfidf_vec = TfidfVectorizer(dtype=np.float32, sublinear_tf=True, use_idf=True, smooth_idf=True)\n",
    "X_data_tfidf = tfidf_vec.fit_transform(df['post'])\n",
    "X_train_tfidf = tfidf_vec.transform(X_train)\n",
    "X_test_tfidf = tfidf_vec.transform(X_test)\n",
    "\n",
    "clf_LGBM = lgbm.LGBMClassifier(objective='multiclass', verbose=-1, learning_rate=0.5, max_depth=20, num_leaves=50, n_estimators=120, max_bin=2000,)\n",
    "clf_LGBM.fit(X_train_tfidf, y_train, verbose=-1)\n",
    "predicted_LGBM = clf_LGBM.predict(X_test_tfidf)"
   ]
  },
  {
   "cell_type": "code",
   "execution_count": 440,
   "metadata": {},
   "outputs": [],
   "source": [
    "cv_res_lgbm_tfidf = cross_val_score(clf_LGBM, X_train_tfidf, y_train, cv=10)\n",
    "mean_cv_res_lgbm_tfidf = np.mean(cv_res_lgbm_tfidf)"
   ]
  },
  {
   "cell_type": "code",
   "execution_count": 441,
   "metadata": {},
   "outputs": [
    {
     "data": {
      "text/plain": [
       "0.27329545454545456"
      ]
     },
     "execution_count": 441,
     "metadata": {},
     "output_type": "execute_result"
    }
   ],
   "source": [
    "mean_cv_res_lgbm_tfidf"
   ]
  },
  {
   "cell_type": "code",
   "execution_count": 442,
   "metadata": {},
   "outputs": [
    {
     "name": "stdout",
     "output_type": "stream",
     "text": [
      "accuracy 0.3462121212121212\n",
      "                                           precision    recall  f1-score   support\n",
      "\n",
      "Buying/Selling & Ask Someone Who Owns One       0.08      0.33      0.13        48\n",
      "                                   Safety       0.00      0.00      0.00        39\n",
      "                          Driving/Drivers       0.00      0.00      0.00        36\n",
      "                            Site Feedback       0.16      0.17      0.17       183\n",
      "                          Auto Type/Class       0.38      0.48      0.43       286\n",
      "                      Maintenance/Repairs       0.73      0.37      0.49       260\n",
      "                                 The Show       0.03      0.02      0.02        50\n",
      "                               Power/Fuel       0.50      0.06      0.10        18\n",
      "                       General Discussion       0.45      0.43      0.44       400\n",
      "\n",
      "                                 accuracy                           0.35      1320\n",
      "                                macro avg       0.26      0.21      0.20      1320\n",
      "                             weighted avg       0.40      0.35      0.35      1320\n",
      "\n"
     ]
    }
   ],
   "source": [
    "print('accuracy %s' % accuracy_score(predicted_LGBM, y_test))\n",
    "res_lgbm = accuracy_score(predicted_LGBM, y_test)\n",
    "print(classification_report(y_test, predicted_LGBM,target_names=my_categories))"
   ]
  },
  {
   "cell_type": "markdown",
   "metadata": {},
   "source": [
    "## Other: Investigating Abbreviations"
   ]
  },
  {
   "cell_type": "code",
   "execution_count": 443,
   "metadata": {},
   "outputs": [],
   "source": [
    "data = pd.read_csv('combined_csv.csv')"
   ]
  },
  {
   "cell_type": "code",
   "execution_count": 444,
   "metadata": {},
   "outputs": [],
   "source": [
    "STOPWORDS = set(stopwords.words('english'))\n",
    "STOPWORDSv2 = [word.upper() for word in STOPWORDS]"
   ]
  },
  {
   "cell_type": "code",
   "execution_count": 445,
   "metadata": {},
   "outputs": [
    {
     "data": {
      "text/plain": [
       "['UP',\n",
       " \"YOU'D\",\n",
       " 'SO',\n",
       " 'YOUR',\n",
       " \"WASN'T\",\n",
       " 'JUST',\n",
       " 'DURING',\n",
       " \"MUSTN'T\",\n",
       " 'YOU',\n",
       " 'THEY',\n",
       " 'HERSELF',\n",
       " 'O',\n",
       " 'YOURSELF',\n",
       " 'SHE',\n",
       " 'WE',\n",
       " 'WON',\n",
       " 'DON',\n",
       " 'FOR',\n",
       " 'HER',\n",
       " 'WHO',\n",
       " 'SHAN',\n",
       " 'THIS',\n",
       " 'VERY',\n",
       " 'HE',\n",
       " 'BECAUSE',\n",
       " 'WHY',\n",
       " 'WHILE',\n",
       " 'AND',\n",
       " 'ABOVE',\n",
       " 'HIMSELF',\n",
       " 'DO',\n",
       " 'IN',\n",
       " \"WEREN'T\",\n",
       " 'VE',\n",
       " \"ISN'T\",\n",
       " 'CAN',\n",
       " \"DON'T\",\n",
       " 'THEM',\n",
       " 'ISN',\n",
       " 'THE',\n",
       " 'HIS',\n",
       " 'WHOM',\n",
       " 'AN',\n",
       " \"YOU'RE\",\n",
       " 'WITH',\n",
       " 'HOW',\n",
       " 'MA',\n",
       " 'BELOW',\n",
       " 'ARE',\n",
       " 'ON',\n",
       " \"YOU'LL\",\n",
       " 'WAS',\n",
       " 'THAT',\n",
       " \"NEEDN'T\",\n",
       " 'ONCE',\n",
       " 'OURS',\n",
       " \"SHAN'T\",\n",
       " 'OF',\n",
       " 'NO',\n",
       " \"THAT'LL\",\n",
       " 'DOES',\n",
       " 'SOME',\n",
       " 'HASN',\n",
       " 'SUCH',\n",
       " 'MY',\n",
       " 'WOULDN',\n",
       " 'AT',\n",
       " 'ONLY',\n",
       " 'HIM',\n",
       " 'IF',\n",
       " \"WON'T\",\n",
       " 'ANY',\n",
       " 'OURSELVES',\n",
       " 'D',\n",
       " 'THEIRS',\n",
       " 'DOESN',\n",
       " 'UNTIL',\n",
       " 'THESE',\n",
       " 'T',\n",
       " \"AREN'T\",\n",
       " 'MYSELF',\n",
       " 'OUR',\n",
       " 'THROUGH',\n",
       " 'AM',\n",
       " 'HERE',\n",
       " 'ITS',\n",
       " 'OVER',\n",
       " 'RE',\n",
       " 'FROM',\n",
       " 'WASN',\n",
       " 'BUT',\n",
       " 'THEIR',\n",
       " 'THEN',\n",
       " \"HASN'T\",\n",
       " \"YOU'VE\",\n",
       " 'HAVE',\n",
       " 'AREN',\n",
       " 'BETWEEN',\n",
       " \"MIGHTN'T\",\n",
       " 'OFF',\n",
       " 'DOWN',\n",
       " 'MUSTN',\n",
       " 'IT',\n",
       " 'DOING',\n",
       " \"DOESN'T\",\n",
       " 'OUT',\n",
       " 'AS',\n",
       " 'AIN',\n",
       " 'WHICH',\n",
       " 'OR',\n",
       " 'FEW',\n",
       " 'ITSELF',\n",
       " 'BE',\n",
       " 'A',\n",
       " 'WHEN',\n",
       " 'BOTH',\n",
       " 'TO',\n",
       " 'DID',\n",
       " 'M',\n",
       " 'HAD',\n",
       " 'WHAT',\n",
       " 'SAME',\n",
       " \"HADN'T\",\n",
       " 'MOST',\n",
       " \"SHOULD'VE\",\n",
       " 'NOR',\n",
       " \"COULDN'T\",\n",
       " \"DIDN'T\",\n",
       " 'ME',\n",
       " \"IT'S\",\n",
       " 'SHOULD',\n",
       " 'BEFORE',\n",
       " 'TOO',\n",
       " 'OWN',\n",
       " 'Y',\n",
       " 'UNDER',\n",
       " 'THOSE',\n",
       " 'BY',\n",
       " 'WHERE',\n",
       " 'DIDN',\n",
       " \"WOULDN'T\",\n",
       " 'FURTHER',\n",
       " 'INTO',\n",
       " 'YOURS',\n",
       " 'BEEN',\n",
       " 'NOW',\n",
       " 'AFTER',\n",
       " 'YOURSELVES',\n",
       " 'WEREN',\n",
       " 'ABOUT',\n",
       " 'THEMSELVES',\n",
       " 'THERE',\n",
       " \"SHE'S\",\n",
       " 'HAS',\n",
       " 'BEING',\n",
       " \"HAVEN'T\",\n",
       " 'WILL',\n",
       " 'AGAINST',\n",
       " 'OTHER',\n",
       " 'EACH',\n",
       " 'COULDN',\n",
       " 'MIGHTN',\n",
       " 'HAVING',\n",
       " 'S',\n",
       " 'NOT',\n",
       " 'NEEDN',\n",
       " 'ALL',\n",
       " 'THAN',\n",
       " 'HERS',\n",
       " 'HAVEN',\n",
       " 'WERE',\n",
       " 'HADN',\n",
       " 'SHOULDN',\n",
       " \"SHOULDN'T\",\n",
       " 'IS',\n",
       " 'I',\n",
       " 'MORE',\n",
       " 'AGAIN',\n",
       " 'LL']"
      ]
     },
     "execution_count": 445,
     "metadata": {},
     "output_type": "execute_result"
    }
   ],
   "source": [
    "STOPWORDSv2"
   ]
  },
  {
   "cell_type": "code",
   "execution_count": 446,
   "metadata": {},
   "outputs": [
    {
     "name": "stderr",
     "output_type": "stream",
     "text": [
      "/Users/jeff/opt/anaconda3/lib/python3.8/site-packages/bs4/__init__.py:417: MarkupResemblesLocatorWarning: \"http://hosted.ap.org/dynamic/stories/U/US_OBIT_CAR_TALK_HOST?SITE=AP&SECTION=HOME&TEMPLATE=DEFAULT\" looks like a URL. Beautiful Soup is not an HTTP client. You should probably use an HTTP client like requests to get the document behind the URL, and feed that document to Beautiful Soup.\n",
      "  warnings.warn(\n"
     ]
    }
   ],
   "source": [
    "def clean_data(text):\n",
    "    \"\"\"\n",
    "        text: a string\n",
    "        \n",
    "        return: modified initial string\n",
    "    \"\"\"\n",
    "    text = BeautifulSoup(str(text), \"lxml\").text # HTML decoding\n",
    "    text = ' '.join(word for word in str(text).split() if word not in STOPWORDSv2) # delete stopwors from text\n",
    "    return text\n",
    "    \n",
    "data['Leading Comment'] = data['Leading Comment'].apply(clean_data)"
   ]
  },
  {
   "cell_type": "code",
   "execution_count": 447,
   "metadata": {},
   "outputs": [
    {
     "data": {
      "text/plain": [
       "0    Debating a new ride? Ask all your buying and s...\n",
       "1    I’ve been working with a particular salesperso...\n",
       "2    Hello! am new to the site and am having a dile...\n",
       "3    Are these any good and were they discontinued?...\n",
       "4    I’m conflicted between these two cars 4Runner ...\n",
       "Name: Leading Comment, dtype: object"
      ]
     },
     "execution_count": 447,
     "metadata": {},
     "output_type": "execute_result"
    }
   ],
   "source": [
    "data['Leading Comment'].head()"
   ]
  },
  {
   "cell_type": "code",
   "execution_count": 448,
   "metadata": {},
   "outputs": [],
   "source": [
    "upcase_words = {}\n",
    "regex = r\"([A-Z]{3})\"\n",
    "\n",
    "for i, row in zip(range(500), data['Leading Comment'][:500]):\n",
    "    row = data['Leading Comment'].str.findall(regex)[i]\n",
    "    if len(row) != 0:\n",
    "        upcase_words[i] = row"
   ]
  },
  {
   "cell_type": "code",
   "execution_count": 449,
   "metadata": {},
   "outputs": [],
   "source": [
    "df_upword = pd.DataFrame(upcase_words.items(), columns=['Original Index', 'Upper Case Words'])"
   ]
  },
  {
   "cell_type": "code",
   "execution_count": 450,
   "metadata": {},
   "outputs": [
    {
     "data": {
      "text/html": [
       "<div>\n",
       "<style scoped>\n",
       "    .dataframe tbody tr th:only-of-type {\n",
       "        vertical-align: middle;\n",
       "    }\n",
       "\n",
       "    .dataframe tbody tr th {\n",
       "        vertical-align: top;\n",
       "    }\n",
       "\n",
       "    .dataframe thead th {\n",
       "        text-align: right;\n",
       "    }\n",
       "</style>\n",
       "<table border=\"1\" class=\"dataframe\">\n",
       "  <thead>\n",
       "    <tr style=\"text-align: right;\">\n",
       "      <th></th>\n",
       "      <th>Original Index</th>\n",
       "      <th>Upper Case Words</th>\n",
       "    </tr>\n",
       "  </thead>\n",
       "  <tbody>\n",
       "    <tr>\n",
       "      <th>0</th>\n",
       "      <td>3</td>\n",
       "      <td>[NOT, HIG, END, CRV, SUV, GMC, SUV, SUV, BMW, ...</td>\n",
       "    </tr>\n",
       "    <tr>\n",
       "      <th>1</th>\n",
       "      <td>4</td>\n",
       "      <td>[MPG]</td>\n",
       "    </tr>\n",
       "    <tr>\n",
       "      <th>2</th>\n",
       "      <td>7</td>\n",
       "      <td>[KBB]</td>\n",
       "    </tr>\n",
       "    <tr>\n",
       "      <th>3</th>\n",
       "      <td>9</td>\n",
       "      <td>[CRV, SUV]</td>\n",
       "    </tr>\n",
       "    <tr>\n",
       "      <th>4</th>\n",
       "      <td>14</td>\n",
       "      <td>[TPS]</td>\n",
       "    </tr>\n",
       "  </tbody>\n",
       "</table>\n",
       "</div>"
      ],
      "text/plain": [
       "   Original Index                                   Upper Case Words\n",
       "0               3  [NOT, HIG, END, CRV, SUV, GMC, SUV, SUV, BMW, ...\n",
       "1               4                                              [MPG]\n",
       "2               7                                              [KBB]\n",
       "3               9                                         [CRV, SUV]\n",
       "4              14                                              [TPS]"
      ]
     },
     "execution_count": 450,
     "metadata": {},
     "output_type": "execute_result"
    }
   ],
   "source": [
    "df_upword.head()"
   ]
  },
  {
   "cell_type": "code",
   "execution_count": 451,
   "metadata": {},
   "outputs": [],
   "source": [
    "df_upword['Number of UpCase Words'] =  df_upword['Upper Case Words'].apply(lambda x: len(x))"
   ]
  },
  {
   "cell_type": "code",
   "execution_count": 452,
   "metadata": {},
   "outputs": [
    {
     "data": {
      "text/html": [
       "<div>\n",
       "<style scoped>\n",
       "    .dataframe tbody tr th:only-of-type {\n",
       "        vertical-align: middle;\n",
       "    }\n",
       "\n",
       "    .dataframe tbody tr th {\n",
       "        vertical-align: top;\n",
       "    }\n",
       "\n",
       "    .dataframe thead th {\n",
       "        text-align: right;\n",
       "    }\n",
       "</style>\n",
       "<table border=\"1\" class=\"dataframe\">\n",
       "  <thead>\n",
       "    <tr style=\"text-align: right;\">\n",
       "      <th></th>\n",
       "      <th>Original Index</th>\n",
       "      <th>Upper Case Words</th>\n",
       "      <th>Number of UpCase Words</th>\n",
       "    </tr>\n",
       "  </thead>\n",
       "  <tbody>\n",
       "    <tr>\n",
       "      <th>0</th>\n",
       "      <td>3</td>\n",
       "      <td>[NOT, HIG, END, CRV, SUV, GMC, SUV, SUV, BMW, ...</td>\n",
       "      <td>16</td>\n",
       "    </tr>\n",
       "    <tr>\n",
       "      <th>1</th>\n",
       "      <td>4</td>\n",
       "      <td>[MPG]</td>\n",
       "      <td>1</td>\n",
       "    </tr>\n",
       "    <tr>\n",
       "      <th>2</th>\n",
       "      <td>7</td>\n",
       "      <td>[KBB]</td>\n",
       "      <td>1</td>\n",
       "    </tr>\n",
       "    <tr>\n",
       "      <th>3</th>\n",
       "      <td>9</td>\n",
       "      <td>[CRV, SUV]</td>\n",
       "      <td>2</td>\n",
       "    </tr>\n",
       "    <tr>\n",
       "      <th>4</th>\n",
       "      <td>14</td>\n",
       "      <td>[TPS]</td>\n",
       "      <td>1</td>\n",
       "    </tr>\n",
       "  </tbody>\n",
       "</table>\n",
       "</div>"
      ],
      "text/plain": [
       "   Original Index                                   Upper Case Words  \\\n",
       "0               3  [NOT, HIG, END, CRV, SUV, GMC, SUV, SUV, BMW, ...   \n",
       "1               4                                              [MPG]   \n",
       "2               7                                              [KBB]   \n",
       "3               9                                         [CRV, SUV]   \n",
       "4              14                                              [TPS]   \n",
       "\n",
       "   Number of UpCase Words  \n",
       "0                      16  \n",
       "1                       1  \n",
       "2                       1  \n",
       "3                       2  \n",
       "4                       1  "
      ]
     },
     "execution_count": 452,
     "metadata": {},
     "output_type": "execute_result"
    }
   ],
   "source": [
    "df_upword.head()"
   ]
  },
  {
   "cell_type": "code",
   "execution_count": 453,
   "metadata": {},
   "outputs": [
    {
     "data": {
      "text/plain": [
       "16"
      ]
     },
     "execution_count": 453,
     "metadata": {},
     "output_type": "execute_result"
    }
   ],
   "source": [
    "df_upword['Number of UpCase Words'].values.max()"
   ]
  },
  {
   "cell_type": "code",
   "execution_count": 454,
   "metadata": {},
   "outputs": [
    {
     "data": {
      "text/plain": [
       "0     16\n",
       "29    16\n",
       "Name: Number of UpCase Words, dtype: int64"
      ]
     },
     "execution_count": 454,
     "metadata": {},
     "output_type": "execute_result"
    }
   ],
   "source": [
    "df_upword['Number of UpCase Words'][df_upword['Number of UpCase Words'].values == 16]"
   ]
  },
  {
   "cell_type": "code",
   "execution_count": 455,
   "metadata": {},
   "outputs": [
    {
     "data": {
      "text/plain": [
       "16"
      ]
     },
     "execution_count": 455,
     "metadata": {},
     "output_type": "execute_result"
    }
   ],
   "source": [
    "df_upword['Number of UpCase Words'][0]"
   ]
  },
  {
   "cell_type": "code",
   "execution_count": 456,
   "metadata": {},
   "outputs": [
    {
     "data": {
      "text/plain": [
       "16"
      ]
     },
     "execution_count": 456,
     "metadata": {},
     "output_type": "execute_result"
    }
   ],
   "source": [
    "df_upword['Number of UpCase Words'][29]"
   ]
  },
  {
   "cell_type": "code",
   "execution_count": 457,
   "metadata": {},
   "outputs": [
    {
     "data": {
      "text/plain": [
       "['NOT',\n",
       " 'HIG',\n",
       " 'END',\n",
       " 'CRV',\n",
       " 'SUV',\n",
       " 'GMC',\n",
       " 'SUV',\n",
       " 'SUV',\n",
       " 'BMW',\n",
       " 'SUV',\n",
       " 'WAG',\n",
       " 'SUV',\n",
       " 'VOL',\n",
       " 'SUV',\n",
       " 'SUV',\n",
       " 'SUV']"
      ]
     },
     "execution_count": 457,
     "metadata": {},
     "output_type": "execute_result"
    }
   ],
   "source": [
    "df_upword['Upper Case Words'][0]"
   ]
  },
  {
   "cell_type": "code",
   "execution_count": 458,
   "metadata": {},
   "outputs": [
    {
     "data": {
      "text/plain": [
       "['BMW',\n",
       " 'MPG',\n",
       " 'HWY',\n",
       " 'ILX',\n",
       " 'WHY',\n",
       " 'YOU',\n",
       " 'GOI',\n",
       " 'BAC',\n",
       " 'THI',\n",
       " 'GTI',\n",
       " 'IDK',\n",
       " 'GTI',\n",
       " 'WRX',\n",
       " 'BRZ',\n",
       " 'BMW',\n",
       " 'SWA']"
      ]
     },
     "execution_count": 458,
     "metadata": {},
     "output_type": "execute_result"
    }
   ],
   "source": [
    "df_upword['Upper Case Words'][29]"
   ]
  },
  {
   "cell_type": "code",
   "execution_count": 459,
   "metadata": {},
   "outputs": [],
   "source": [
    "def ABB(n):\n",
    "    abb = {}\n",
    "    for word in df_upword['Upper Case Words'][0]:\n",
    "        if word in abb.keys():\n",
    "            abb[word] += 1\n",
    "        else:\n",
    "            abb[word] = 1\n",
    "    return abb"
   ]
  },
  {
   "cell_type": "code",
   "execution_count": 460,
   "metadata": {},
   "outputs": [
    {
     "data": {
      "text/plain": [
       "{'NOT': 1,\n",
       " 'HIG': 1,\n",
       " 'END': 1,\n",
       " 'CRV': 1,\n",
       " 'SUV': 8,\n",
       " 'GMC': 1,\n",
       " 'BMW': 1,\n",
       " 'WAG': 1,\n",
       " 'VOL': 1}"
      ]
     },
     "execution_count": 460,
     "metadata": {},
     "output_type": "execute_result"
    }
   ],
   "source": [
    "ABB(0)"
   ]
  },
  {
   "cell_type": "code",
   "execution_count": 461,
   "metadata": {},
   "outputs": [
    {
     "data": {
      "text/plain": [
       "{'NOT': 1,\n",
       " 'HIG': 1,\n",
       " 'END': 1,\n",
       " 'CRV': 1,\n",
       " 'SUV': 8,\n",
       " 'GMC': 1,\n",
       " 'BMW': 1,\n",
       " 'WAG': 1,\n",
       " 'VOL': 1}"
      ]
     },
     "execution_count": 461,
     "metadata": {},
     "output_type": "execute_result"
    }
   ],
   "source": [
    "ABB(29)"
   ]
  },
  {
   "cell_type": "code",
   "execution_count": null,
   "metadata": {},
   "outputs": [],
   "source": []
  },
  {
   "cell_type": "code",
   "execution_count": null,
   "metadata": {},
   "outputs": [],
   "source": []
  },
  {
   "cell_type": "code",
   "execution_count": null,
   "metadata": {},
   "outputs": [],
   "source": []
  }
 ],
 "metadata": {
  "interpreter": {
   "hash": "084a4b0a913557c8e34e1a88bb167458ac83943de17ffcf7eddee5c23ece2d84"
  },
  "kernelspec": {
   "display_name": "Python 3.8.8 64-bit ('base': conda)",
   "name": "python3"
  },
  "language_info": {
   "codemirror_mode": {
    "name": "ipython",
    "version": 3
   },
   "file_extension": ".py",
   "mimetype": "text/x-python",
   "name": "python",
   "nbconvert_exporter": "python",
   "pygments_lexer": "ipython3",
   "version": "3.8.8"
  }
 },
 "nbformat": 4,
 "nbformat_minor": 4
}